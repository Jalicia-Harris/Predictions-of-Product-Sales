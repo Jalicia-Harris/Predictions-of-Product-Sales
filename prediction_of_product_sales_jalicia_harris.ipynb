{
  "nbformat": 4,
  "nbformat_minor": 0,
  "metadata": {
    "colab": {
      "provenance": [],
      "authorship_tag": "ABX9TyMStQJ3UoMSfjvEEzwLV7wv",
      "include_colab_link": true
    },
    "kernelspec": {
      "name": "python3",
      "display_name": "Python 3"
    },
    "language_info": {
      "name": "python"
    }
  },
  "cells": [
    {
      "cell_type": "markdown",
      "metadata": {
        "id": "view-in-github",
        "colab_type": "text"
      },
      "source": [
        "<a href=\"https://colab.research.google.com/github/Jalicia-Harris/Predictions-of-Product-Sales/blob/main/prediction_of_product_sales_jalicia_harris.ipynb\" target=\"_parent\"><img src=\"https://colab.research.google.com/assets/colab-badge.svg\" alt=\"Open In Colab\"/></a>"
      ]
    },
    {
      "cell_type": "markdown",
      "source": [
        "# Prediction of Product Salaes\n",
        "##### Jalicia Harris"
      ],
      "metadata": {
        "id": "7vMXdIk5kG2U"
      }
    },
    {
      "cell_type": "markdown",
      "source": [
        "## Project Overview"
      ],
      "metadata": {
        "id": "Ka1qGf_CkGsj"
      }
    },
    {
      "cell_type": "markdown",
      "source": [
        "## Load and Inspect Data"
      ],
      "metadata": {
        "id": "P_YJJ84kkF_e"
      }
    },
    {
      "cell_type": "code",
      "source": [],
      "metadata": {
        "id": "9OsqggeglxN7"
      },
      "execution_count": null,
      "outputs": []
    },
    {
      "cell_type": "markdown",
      "source": [
        "## Clean Data"
      ],
      "metadata": {
        "id": "lio9IZuUlRSh"
      }
    },
    {
      "cell_type": "code",
      "source": [],
      "metadata": {
        "id": "X9b2YbnWlyJz"
      },
      "execution_count": null,
      "outputs": []
    },
    {
      "cell_type": "markdown",
      "source": [
        "## Exploratory Data Analysis"
      ],
      "metadata": {
        "id": "qcQKmy1slRNw"
      }
    },
    {
      "cell_type": "code",
      "source": [],
      "metadata": {
        "id": "e2ZefU1-ly-G"
      },
      "execution_count": null,
      "outputs": []
    },
    {
      "cell_type": "markdown",
      "source": [
        "## Explanatory Data Analysis"
      ],
      "metadata": {
        "id": "quGqViYJlRG_"
      }
    },
    {
      "cell_type": "code",
      "source": [],
      "metadata": {
        "id": "N9JD-Mxzlzxq"
      },
      "execution_count": null,
      "outputs": []
    }
  ]
}
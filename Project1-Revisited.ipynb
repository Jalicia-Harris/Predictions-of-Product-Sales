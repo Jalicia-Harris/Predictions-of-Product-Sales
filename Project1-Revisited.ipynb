{
 "cells": [
  {
   "cell_type": "markdown",
   "metadata": {
    "heading_collapsed": true,
    "id": "7vMXdIk5kG2U"
   },
   "source": [
    "# Prediction of Product Sales\n",
    "\n",
    "##### Jalicia Harris"
   ]
  },
  {
   "cell_type": "markdown",
   "metadata": {
    "hidden": true
   },
   "source": [
    "### Imports"
   ]
  },
  {
   "cell_type": "code",
   "execution_count": 1,
   "metadata": {
    "hidden": true,
    "id": "9OsqggeglxN7"
   },
   "outputs": [],
   "source": [
    "# Standard Imports\n",
    "import pandas as pd\n",
    "import numpy as np\n",
    "import matplotlib.pyplot as plt\n",
    "import seaborn as sns\n",
    "# Filter ALL warnings\n",
    "import warnings\n",
    "warnings.filterwarnings('ignore')"
   ]
  },
  {
   "cell_type": "code",
   "execution_count": 2,
   "metadata": {
    "hidden": true
   },
   "outputs": [],
   "source": [
    "## Preprocessing tools\n",
    "from sklearn.model_selection import train_test_split\n",
    "from sklearn.compose import make_column_transformer, make_column_selector\n",
    "from sklearn.pipeline import make_pipeline\n",
    "from sklearn.preprocessing import OneHotEncoder, StandardScaler\n",
    "from sklearn.impute import SimpleImputer\n",
    "## Models & evaluation metrics\n",
    "from sklearn import metrics\n",
    "from sklearn.linear_model import LinearRegression\n",
    "from sklearn.tree import DecisionTreeRegressor\n",
    "from sklearn.ensemble import RandomForestRegressor\n",
    "import joblib\n",
    "## Setting random state for reproducibility\n",
    "SEED = 321\n",
    "np.random.seed(SEED)\n",
    "## Set pandas to display more columns\n",
    "pd.set_option('display.max_columns', 20)"
   ]
  },
  {
   "cell_type": "markdown",
   "metadata": {
    "hidden": true,
    "id": "P_YJJ84kkF_e"
   },
   "source": [
    "## Load and Inspect Data"
   ]
  },
  {
   "cell_type": "code",
   "execution_count": 3,
   "metadata": {
    "colab": {
     "base_uri": "https://localhost:8080/",
     "height": 536
    },
    "hidden": true,
    "id": "y7-6y_zVxHE-",
    "outputId": "9dffeb59-2286-4092-d0b4-caae84c6e1af"
   },
   "outputs": [
    {
     "name": "stdout",
     "output_type": "stream",
     "text": [
      "<class 'pandas.core.frame.DataFrame'>\n",
      "RangeIndex: 8523 entries, 0 to 8522\n",
      "Data columns (total 12 columns):\n",
      " #   Column                     Non-Null Count  Dtype  \n",
      "---  ------                     --------------  -----  \n",
      " 0   Item_Identifier            8523 non-null   object \n",
      " 1   Item_Weight                7060 non-null   float64\n",
      " 2   Item_Fat_Content           8523 non-null   object \n",
      " 3   Item_Visibility            8523 non-null   float64\n",
      " 4   Item_Type                  8523 non-null   object \n",
      " 5   Item_MRP                   8523 non-null   float64\n",
      " 6   Outlet_Identifier          8523 non-null   object \n",
      " 7   Outlet_Establishment_Year  8523 non-null   int64  \n",
      " 8   Outlet_Size                6113 non-null   object \n",
      " 9   Outlet_Location_Type       8523 non-null   object \n",
      " 10  Outlet_Type                8523 non-null   object \n",
      " 11  Item_Outlet_Sales          8523 non-null   float64\n",
      "dtypes: float64(4), int64(1), object(7)\n",
      "memory usage: 799.2+ KB\n"
     ]
    },
    {
     "data": {
      "text/html": [
       "<div>\n",
       "<style scoped>\n",
       "    .dataframe tbody tr th:only-of-type {\n",
       "        vertical-align: middle;\n",
       "    }\n",
       "\n",
       "    .dataframe tbody tr th {\n",
       "        vertical-align: top;\n",
       "    }\n",
       "\n",
       "    .dataframe thead th {\n",
       "        text-align: right;\n",
       "    }\n",
       "</style>\n",
       "<table border=\"1\" class=\"dataframe\">\n",
       "  <thead>\n",
       "    <tr style=\"text-align: right;\">\n",
       "      <th></th>\n",
       "      <th>Item_Identifier</th>\n",
       "      <th>Item_Weight</th>\n",
       "      <th>Item_Fat_Content</th>\n",
       "      <th>Item_Visibility</th>\n",
       "      <th>Item_Type</th>\n",
       "      <th>Item_MRP</th>\n",
       "      <th>Outlet_Identifier</th>\n",
       "      <th>Outlet_Establishment_Year</th>\n",
       "      <th>Outlet_Size</th>\n",
       "      <th>Outlet_Location_Type</th>\n",
       "      <th>Outlet_Type</th>\n",
       "      <th>Item_Outlet_Sales</th>\n",
       "    </tr>\n",
       "  </thead>\n",
       "  <tbody>\n",
       "    <tr>\n",
       "      <th>0</th>\n",
       "      <td>FDA15</td>\n",
       "      <td>9.30</td>\n",
       "      <td>Low Fat</td>\n",
       "      <td>0.016047</td>\n",
       "      <td>Dairy</td>\n",
       "      <td>249.8092</td>\n",
       "      <td>OUT049</td>\n",
       "      <td>1999</td>\n",
       "      <td>Medium</td>\n",
       "      <td>Tier 1</td>\n",
       "      <td>Supermarket Type1</td>\n",
       "      <td>3735.1380</td>\n",
       "    </tr>\n",
       "    <tr>\n",
       "      <th>1</th>\n",
       "      <td>DRC01</td>\n",
       "      <td>5.92</td>\n",
       "      <td>Regular</td>\n",
       "      <td>0.019278</td>\n",
       "      <td>Soft Drinks</td>\n",
       "      <td>48.2692</td>\n",
       "      <td>OUT018</td>\n",
       "      <td>2009</td>\n",
       "      <td>Medium</td>\n",
       "      <td>Tier 3</td>\n",
       "      <td>Supermarket Type2</td>\n",
       "      <td>443.4228</td>\n",
       "    </tr>\n",
       "    <tr>\n",
       "      <th>2</th>\n",
       "      <td>FDN15</td>\n",
       "      <td>17.50</td>\n",
       "      <td>Low Fat</td>\n",
       "      <td>0.016760</td>\n",
       "      <td>Meat</td>\n",
       "      <td>141.6180</td>\n",
       "      <td>OUT049</td>\n",
       "      <td>1999</td>\n",
       "      <td>Medium</td>\n",
       "      <td>Tier 1</td>\n",
       "      <td>Supermarket Type1</td>\n",
       "      <td>2097.2700</td>\n",
       "    </tr>\n",
       "    <tr>\n",
       "      <th>3</th>\n",
       "      <td>FDX07</td>\n",
       "      <td>19.20</td>\n",
       "      <td>Regular</td>\n",
       "      <td>0.000000</td>\n",
       "      <td>Fruits and Vegetables</td>\n",
       "      <td>182.0950</td>\n",
       "      <td>OUT010</td>\n",
       "      <td>1998</td>\n",
       "      <td>NaN</td>\n",
       "      <td>Tier 3</td>\n",
       "      <td>Grocery Store</td>\n",
       "      <td>732.3800</td>\n",
       "    </tr>\n",
       "    <tr>\n",
       "      <th>4</th>\n",
       "      <td>NCD19</td>\n",
       "      <td>8.93</td>\n",
       "      <td>Low Fat</td>\n",
       "      <td>0.000000</td>\n",
       "      <td>Household</td>\n",
       "      <td>53.8614</td>\n",
       "      <td>OUT013</td>\n",
       "      <td>1987</td>\n",
       "      <td>High</td>\n",
       "      <td>Tier 3</td>\n",
       "      <td>Supermarket Type1</td>\n",
       "      <td>994.7052</td>\n",
       "    </tr>\n",
       "  </tbody>\n",
       "</table>\n",
       "</div>"
      ],
      "text/plain": [
       "  Item_Identifier  Item_Weight Item_Fat_Content  Item_Visibility  \\\n",
       "0           FDA15         9.30          Low Fat         0.016047   \n",
       "1           DRC01         5.92          Regular         0.019278   \n",
       "2           FDN15        17.50          Low Fat         0.016760   \n",
       "3           FDX07        19.20          Regular         0.000000   \n",
       "4           NCD19         8.93          Low Fat         0.000000   \n",
       "\n",
       "               Item_Type  Item_MRP Outlet_Identifier  \\\n",
       "0                  Dairy  249.8092            OUT049   \n",
       "1            Soft Drinks   48.2692            OUT018   \n",
       "2                   Meat  141.6180            OUT049   \n",
       "3  Fruits and Vegetables  182.0950            OUT010   \n",
       "4              Household   53.8614            OUT013   \n",
       "\n",
       "   Outlet_Establishment_Year Outlet_Size Outlet_Location_Type  \\\n",
       "0                       1999      Medium               Tier 1   \n",
       "1                       2009      Medium               Tier 3   \n",
       "2                       1999      Medium               Tier 1   \n",
       "3                       1998         NaN               Tier 3   \n",
       "4                       1987        High               Tier 3   \n",
       "\n",
       "         Outlet_Type  Item_Outlet_Sales  \n",
       "0  Supermarket Type1          3735.1380  \n",
       "1  Supermarket Type2           443.4228  \n",
       "2  Supermarket Type1          2097.2700  \n",
       "3      Grocery Store           732.3800  \n",
       "4  Supermarket Type1           994.7052  "
      ]
     },
     "execution_count": 3,
     "metadata": {},
     "output_type": "execute_result"
    }
   ],
   "source": [
    "# Load file, display column info, and preview rows\n",
    "df = pd.read_csv('Data/sales_predictions_2023.csv')\n",
    "df.info()\n",
    "df.head()"
   ]
  },
  {
   "cell_type": "markdown",
   "metadata": {
    "hidden": true,
    "id": "lio9IZuUlRSh"
   },
   "source": [
    "## Clean Data"
   ]
  },
  {
   "cell_type": "markdown",
   "metadata": {
    "hidden": true,
    "id": "DNWvkSPrqSou"
   },
   "source": [
    "### 1. How many rows and columns?\n"
   ]
  },
  {
   "cell_type": "code",
   "execution_count": 4,
   "metadata": {
    "colab": {
     "base_uri": "https://localhost:8080/"
    },
    "hidden": true,
    "id": "4MZsyYdAyMpu",
    "outputId": "ebc1757e-fc72-4f2e-b5f3-9c3c0222a1a7"
   },
   "outputs": [
    {
     "name": "stdout",
     "output_type": "stream",
     "text": [
      "There are 8523 rows, and 12 columns.\n"
     ]
    }
   ],
   "source": [
    "df.shape\n",
    "print(f'There are {df.shape[0]} rows, and {df.shape[1]} columns.')"
   ]
  },
  {
   "cell_type": "markdown",
   "metadata": {
    "hidden": true,
    "id": "j77uDGCm5Q6Q"
   },
   "source": [
    "### 2. What are the datatypes of each variables?"
   ]
  },
  {
   "cell_type": "code",
   "execution_count": 5,
   "metadata": {
    "colab": {
     "base_uri": "https://localhost:8080/"
    },
    "hidden": true,
    "id": "Y2dXTHYuzP9G",
    "outputId": "ef01e542-a14f-44ab-e48b-fcc324ebd338"
   },
   "outputs": [
    {
     "data": {
      "text/plain": [
       "Item_Identifier               object\n",
       "Item_Weight                  float64\n",
       "Item_Fat_Content              object\n",
       "Item_Visibility              float64\n",
       "Item_Type                     object\n",
       "Item_MRP                     float64\n",
       "Outlet_Identifier             object\n",
       "Outlet_Establishment_Year      int64\n",
       "Outlet_Size                   object\n",
       "Outlet_Location_Type          object\n",
       "Outlet_Type                   object\n",
       "Item_Outlet_Sales            float64\n",
       "dtype: object"
      ]
     },
     "execution_count": 5,
     "metadata": {},
     "output_type": "execute_result"
    }
   ],
   "source": [
    "df.dtypes"
   ]
  },
  {
   "cell_type": "markdown",
   "metadata": {
    "hidden": true,
    "id": "RLnoBBKpztEO"
   },
   "source": [
    "## Checking for Duplicates and Missing Values"
   ]
  },
  {
   "cell_type": "code",
   "execution_count": 6,
   "metadata": {
    "colab": {
     "base_uri": "https://localhost:8080/"
    },
    "hidden": true,
    "id": "wyjpyJh3r7R8",
    "outputId": "82e8ca82-549e-45eb-a7a7-e80eb1ce8558"
   },
   "outputs": [
    {
     "name": "stdout",
     "output_type": "stream",
     "text": [
      "There are 0 duplicates\n"
     ]
    }
   ],
   "source": [
    "# Check and delete any duplicates\n",
    "sale = df.duplicated().sum()\n",
    "print(f'There are {sale} duplicates')"
   ]
  },
  {
   "cell_type": "code",
   "execution_count": 7,
   "metadata": {
    "colab": {
     "base_uri": "https://localhost:8080/"
    },
    "hidden": true,
    "id": "DozCN_P3r7LU",
    "outputId": "c51d06e1-bb80-423d-ae72-ada5f08f3f01"
   },
   "outputs": [
    {
     "data": {
      "text/plain": [
       "Item_Identifier                 0\n",
       "Item_Weight                  1463\n",
       "Item_Fat_Content                0\n",
       "Item_Visibility                 0\n",
       "Item_Type                       0\n",
       "Item_MRP                        0\n",
       "Outlet_Identifier               0\n",
       "Outlet_Establishment_Year       0\n",
       "Outlet_Size                  2410\n",
       "Outlet_Location_Type            0\n",
       "Outlet_Type                     0\n",
       "Item_Outlet_Sales               0\n",
       "dtype: int64"
      ]
     },
     "execution_count": 7,
     "metadata": {},
     "output_type": "execute_result"
    }
   ],
   "source": [
    "# Identify missing values\n",
    "df.isna().sum()"
   ]
  },
  {
   "cell_type": "markdown",
   "metadata": {
    "hidden": true,
    "id": "2yM25aaj09ob"
   },
   "source": [
    "## Identifying and Making Corrections\n",
    "\n",
    "\n",
    "- The missing values in column 'Item_Weight' will be replaced with calculated mean.\n",
    "- This missing values in the 'Outlet_Size' column will be replaced with value \"Unknown\"\n",
    "- All other datatypes will remain as is."
   ]
  },
  {
   "cell_type": "code",
   "execution_count": 8,
   "metadata": {
    "hidden": true,
    "id": "_lvO6Kf3v67o"
   },
   "outputs": [],
   "source": [
    "# Replace missing values in 'Item Weight' column with the median\n",
    "missing_data = df['Item_Weight'].mean()\n",
    "df['Item_Weight'].fillna(missing_data, inplace = True)"
   ]
  },
  {
   "cell_type": "code",
   "execution_count": 9,
   "metadata": {
    "colab": {
     "base_uri": "https://localhost:8080/"
    },
    "hidden": true,
    "id": "3MP3x6iP7tVK",
    "outputId": "705b8070-2115-4f1e-a5fb-a477920f8cfc"
   },
   "outputs": [
    {
     "data": {
      "text/plain": [
       "Item_Identifier              0\n",
       "Item_Weight                  0\n",
       "Item_Fat_Content             0\n",
       "Item_Visibility              0\n",
       "Item_Type                    0\n",
       "Item_MRP                     0\n",
       "Outlet_Identifier            0\n",
       "Outlet_Establishment_Year    0\n",
       "Outlet_Size                  0\n",
       "Outlet_Location_Type         0\n",
       "Outlet_Type                  0\n",
       "Item_Outlet_Sales            0\n",
       "dtype: int64"
      ]
     },
     "execution_count": 9,
     "metadata": {},
     "output_type": "execute_result"
    }
   ],
   "source": [
    "# Replace missing values in 'Outlet_Size' column with value 'Unknown'\n",
    "df['Outlet_Size'].fillna('N/A', inplace=True)\n",
    "df.isna().sum()"
   ]
  },
  {
   "cell_type": "markdown",
   "metadata": {
    "hidden": true,
    "id": "zNFPLkwgULYx"
   },
   "source": [
    "## Identify and Correct Any Inconsistencies"
   ]
  },
  {
   "cell_type": "code",
   "execution_count": 10,
   "metadata": {
    "colab": {
     "base_uri": "https://localhost:8080/"
    },
    "hidden": true,
    "id": "VBcMgYgeF2Po",
    "outputId": "091060c1-97c5-4a18-fcc5-468043bdc965"
   },
   "outputs": [
    {
     "data": {
      "text/plain": [
       "Low Fat    5089\n",
       "Regular    2889\n",
       "LF          316\n",
       "reg         117\n",
       "low fat     112\n",
       "Name: Item_Fat_Content, dtype: int64"
      ]
     },
     "execution_count": 10,
     "metadata": {},
     "output_type": "execute_result"
    }
   ],
   "source": [
    "# Find any inconsistent categories of data\n",
    "df['Item_Fat_Content'].value_counts()"
   ]
  },
  {
   "cell_type": "code",
   "execution_count": 11,
   "metadata": {
    "colab": {
     "base_uri": "https://localhost:8080/"
    },
    "hidden": true,
    "id": "HEhhONRESNcg",
    "outputId": "4e0f8184-6569-4322-a994-2a4d5b30f503"
   },
   "outputs": [
    {
     "data": {
      "text/plain": [
       "Low Fat    5517\n",
       "Regular    3006\n",
       "Name: Item_Fat_Content, dtype: int64"
      ]
     },
     "execution_count": 11,
     "metadata": {},
     "output_type": "execute_result"
    }
   ],
   "source": [
    "# Standarize the values in the 'Item_Fat_Content' column\n",
    "df['Item_Fat_Content'] = df['Item_Fat_Content'].replace('LF', 'Low Fat')\n",
    "df['Item_Fat_Content'] = df['Item_Fat_Content'].replace('low fat', 'Low Fat')\n",
    "df['Item_Fat_Content'] = df['Item_Fat_Content'].replace('reg', 'Regular')\n",
    "# Confirm results\n",
    "df['Item_Fat_Content'].value_counts()"
   ]
  },
  {
   "cell_type": "markdown",
   "metadata": {
    "hidden": true,
    "id": "OD3Lq2gjU4jr"
   },
   "source": [
    "## For any numerical columns, obtain the summary statistics of each (min, max, mean)"
   ]
  },
  {
   "cell_type": "code",
   "execution_count": 12,
   "metadata": {
    "colab": {
     "base_uri": "https://localhost:8080/",
     "height": 300
    },
    "hidden": true,
    "id": "OicOUdtkv6-4",
    "outputId": "8a00511d-e483-4fee-d0ca-0e2ec4f67fc3"
   },
   "outputs": [
    {
     "data": {
      "text/html": [
       "<div>\n",
       "<style scoped>\n",
       "    .dataframe tbody tr th:only-of-type {\n",
       "        vertical-align: middle;\n",
       "    }\n",
       "\n",
       "    .dataframe tbody tr th {\n",
       "        vertical-align: top;\n",
       "    }\n",
       "\n",
       "    .dataframe thead th {\n",
       "        text-align: right;\n",
       "    }\n",
       "</style>\n",
       "<table border=\"1\" class=\"dataframe\">\n",
       "  <thead>\n",
       "    <tr style=\"text-align: right;\">\n",
       "      <th></th>\n",
       "      <th>Item_Weight</th>\n",
       "      <th>Item_Visibility</th>\n",
       "      <th>Item_MRP</th>\n",
       "      <th>Outlet_Establishment_Year</th>\n",
       "      <th>Item_Outlet_Sales</th>\n",
       "    </tr>\n",
       "  </thead>\n",
       "  <tbody>\n",
       "    <tr>\n",
       "      <th>count</th>\n",
       "      <td>8523.00</td>\n",
       "      <td>8523.00</td>\n",
       "      <td>8523.00</td>\n",
       "      <td>8523.00</td>\n",
       "      <td>8523.00</td>\n",
       "    </tr>\n",
       "    <tr>\n",
       "      <th>mean</th>\n",
       "      <td>12.86</td>\n",
       "      <td>0.07</td>\n",
       "      <td>140.99</td>\n",
       "      <td>1997.83</td>\n",
       "      <td>2181.29</td>\n",
       "    </tr>\n",
       "    <tr>\n",
       "      <th>std</th>\n",
       "      <td>4.23</td>\n",
       "      <td>0.05</td>\n",
       "      <td>62.28</td>\n",
       "      <td>8.37</td>\n",
       "      <td>1706.50</td>\n",
       "    </tr>\n",
       "    <tr>\n",
       "      <th>min</th>\n",
       "      <td>4.56</td>\n",
       "      <td>0.00</td>\n",
       "      <td>31.29</td>\n",
       "      <td>1985.00</td>\n",
       "      <td>33.29</td>\n",
       "    </tr>\n",
       "    <tr>\n",
       "      <th>25%</th>\n",
       "      <td>9.31</td>\n",
       "      <td>0.03</td>\n",
       "      <td>93.83</td>\n",
       "      <td>1987.00</td>\n",
       "      <td>834.25</td>\n",
       "    </tr>\n",
       "    <tr>\n",
       "      <th>50%</th>\n",
       "      <td>12.86</td>\n",
       "      <td>0.05</td>\n",
       "      <td>143.01</td>\n",
       "      <td>1999.00</td>\n",
       "      <td>1794.33</td>\n",
       "    </tr>\n",
       "    <tr>\n",
       "      <th>75%</th>\n",
       "      <td>16.00</td>\n",
       "      <td>0.09</td>\n",
       "      <td>185.64</td>\n",
       "      <td>2004.00</td>\n",
       "      <td>3101.30</td>\n",
       "    </tr>\n",
       "    <tr>\n",
       "      <th>max</th>\n",
       "      <td>21.35</td>\n",
       "      <td>0.33</td>\n",
       "      <td>266.89</td>\n",
       "      <td>2009.00</td>\n",
       "      <td>13086.96</td>\n",
       "    </tr>\n",
       "  </tbody>\n",
       "</table>\n",
       "</div>"
      ],
      "text/plain": [
       "       Item_Weight  Item_Visibility  Item_MRP  Outlet_Establishment_Year  \\\n",
       "count      8523.00          8523.00   8523.00                    8523.00   \n",
       "mean         12.86             0.07    140.99                    1997.83   \n",
       "std           4.23             0.05     62.28                       8.37   \n",
       "min           4.56             0.00     31.29                    1985.00   \n",
       "25%           9.31             0.03     93.83                    1987.00   \n",
       "50%          12.86             0.05    143.01                    1999.00   \n",
       "75%          16.00             0.09    185.64                    2004.00   \n",
       "max          21.35             0.33    266.89                    2009.00   \n",
       "\n",
       "       Item_Outlet_Sales  \n",
       "count            8523.00  \n",
       "mean             2181.29  \n",
       "std              1706.50  \n",
       "min                33.29  \n",
       "25%               834.25  \n",
       "50%              1794.33  \n",
       "75%              3101.30  \n",
       "max             13086.96  "
      ]
     },
     "execution_count": 12,
     "metadata": {},
     "output_type": "execute_result"
    }
   ],
   "source": [
    "df.describe().round(2)"
   ]
  },
  {
   "cell_type": "markdown",
   "metadata": {
    "hidden": true,
    "id": "qcQKmy1slRNw"
   },
   "source": [
    "## Exploratory Data Analysis"
   ]
  },
  {
   "cell_type": "markdown",
   "metadata": {
    "hidden": true,
    "id": "J-C-GThMQHrO"
   },
   "source": [
    "### Examining Distributions of Various Sections Using Histograms\n",
    "\n",
    "---\n",
    "\n"
   ]
  },
  {
   "cell_type": "code",
   "execution_count": 13,
   "metadata": {
    "colab": {
     "base_uri": "https://localhost:8080/",
     "height": 499
    },
    "hidden": true,
    "id": "e2ZefU1-ly-G",
    "outputId": "3fcfc790-18c2-4ad2-85f6-70a42a6999ae"
   },
   "outputs": [
    {
     "data": {
      "image/png": "[encoded data removed]",
      "text/plain": [
       "<Figure size 640x480 with 1 Axes>"
      ]
     },
     "metadata": {},
     "output_type": "display_data"
    }
   ],
   "source": [
    "# Create a histogram to view the distributions of various features in the dateset\n",
    "ax = df['Item_Outlet_Sales'].hist(bins=50, edgecolor = 'black')\n",
    "ax.tick_params(axis='x', rotation=45)\n",
    "ax.set_title('Distribution of Item Outlet Sales')\n",
    "ax.set_xlabel('Sales ($)')\n",
    "ax.set_ylabel('Number of Products');"
   ]
  },
  {
   "cell_type": "code",
   "execution_count": 14,
   "metadata": {
    "colab": {
     "base_uri": "https://localhost:8080/",
     "height": 472
    },
    "hidden": true,
    "id": "Amj-622xekh6",
    "outputId": "3865cebc-3bf9-49de-8370-904f8db5134c"
   },
   "outputs": [
    {
     "data": {
      "image/png": "[encoded data removed]",
      "text/plain": [
       "<Figure size 640x480 with 1 Axes>"
      ]
     },
     "metadata": {},
     "output_type": "display_data"
    }
   ],
   "source": [
    "ax = df['Item_Weight'].hist(bins=30, edgecolor = 'orange')\n",
    "ax.set_title('Distribution of Item Weight')\n",
    "ax.set_xlabel('Weight')\n",
    "ax.set_ylabel('Number of Products');"
   ]
  },
  {
   "cell_type": "markdown",
   "metadata": {
    "hidden": true,
    "id": "FSRIDYbFRee2"
   },
   "source": [
    "### Examine Statistical Summaries Using Boxplots"
   ]
  },
  {
   "cell_type": "code",
   "execution_count": 15,
   "metadata": {
    "colab": {
     "base_uri": "https://localhost:8080/",
     "height": 472
    },
    "hidden": true,
    "id": "8e-_dp0oOm9i",
    "outputId": "b695531b-1878-45dc-f7e0-2fbcad1eee5a"
   },
   "outputs": [
    {
     "data": {
      "image/png": "[encoded data removed]",
      "text/plain": [
       "<Figure size 640x480 with 1 Axes>"
      ]
     },
     "metadata": {},
     "output_type": "display_data"
    }
   ],
   "source": [
    "# Create a Boxplot to view statistical summaries of various features in the dataset\n",
    "ax = sns.boxplot(x='Item_Fat_Content', y='Item_Outlet_Sales', data=df)\n",
    "ax.set_title(\"Comparing Sales of Low Fat vs Regular Products\");"
   ]
  },
  {
   "cell_type": "code",
   "execution_count": 16,
   "metadata": {
    "colab": {
     "base_uri": "https://localhost:8080/",
     "height": 472
    },
    "hidden": true,
    "id": "vPFD7Wquc5fU",
    "outputId": "bf9c5460-a09a-4946-878e-b379be27cd52"
   },
   "outputs": [
    {
     "data": {
      "image/png": "[encoded data removed]",
      "text/plain": [
       "<Figure size 640x480 with 1 Axes>"
      ]
     },
     "metadata": {},
     "output_type": "display_data"
    }
   ],
   "source": [
    "ax = sns.boxplot(x='Outlet_Size', y='Item_Outlet_Sales', data=df)\n",
    "ax.set_title(\"Comparing Sales of All Outlet Sizes\");"
   ]
  },
  {
   "cell_type": "markdown",
   "metadata": {
    "hidden": true,
    "id": "RlUhY-qfXgWu"
   },
   "source": [
    "### Examine the Correlation Between Various Sections Using Heatmaps"
   ]
  },
  {
   "cell_type": "code",
   "execution_count": 17,
   "metadata": {
    "colab": {
     "base_uri": "https://localhost:8080/",
     "height": 606
    },
    "hidden": true,
    "id": "aViCrINXOmzH",
    "outputId": "2b147202-ca9c-48b8-bacf-c9a2e20f62b4"
   },
   "outputs": [
    {
     "data": {
      "image/png": "[encoded data removed]",
      "text/plain": [
       "<Figure size 640x480 with 2 Axes>"
      ]
     },
     "metadata": {},
     "output_type": "display_data"
    }
   ],
   "source": [
    "corr = df.corr()\n",
    "sns.heatmap(corr, cmap = 'magma', annot=True);"
   ]
  },
  {
   "cell_type": "markdown",
   "metadata": {
    "hidden": true,
    "id": "quGqViYJlRG_"
   },
   "source": [
    "## Explanatory Data Analysis"
   ]
  },
  {
   "cell_type": "markdown",
   "metadata": {
    "hidden": true,
    "id": "Dd--qInDlKtn"
   },
   "source": [
    "### Possible Questions to Answer:\n",
    "##### 1. What outlet types have the highest sales?\n",
    "##### 2. Which product types bring in the most profits?"
   ]
  },
  {
   "cell_type": "code",
   "execution_count": 18,
   "metadata": {
    "colab": {
     "base_uri": "https://localhost:8080/"
    },
    "hidden": true,
    "id": "N9JD-Mxzlzxq",
    "outputId": "39f99b69-7f9f-4dad-831f-4165cf383bee"
   },
   "outputs": [
    {
     "name": "stdout",
     "output_type": "stream",
     "text": [
      "<class 'pandas.core.frame.DataFrame'>\n",
      "RangeIndex: 8523 entries, 0 to 8522\n",
      "Data columns (total 12 columns):\n",
      " #   Column                     Non-Null Count  Dtype  \n",
      "---  ------                     --------------  -----  \n",
      " 0   Item_Identifier            8523 non-null   object \n",
      " 1   Item_Weight                8523 non-null   float64\n",
      " 2   Item_Fat_Content           8523 non-null   object \n",
      " 3   Item_Visibility            8523 non-null   float64\n",
      " 4   Item_Type                  8523 non-null   object \n",
      " 5   Item_MRP                   8523 non-null   float64\n",
      " 6   Outlet_Identifier          8523 non-null   object \n",
      " 7   Outlet_Establishment_Year  8523 non-null   int64  \n",
      " 8   Outlet_Size                8523 non-null   object \n",
      " 9   Outlet_Location_Type       8523 non-null   object \n",
      " 10  Outlet_Type                8523 non-null   object \n",
      " 11  Item_Outlet_Sales          8523 non-null   float64\n",
      "dtypes: float64(4), int64(1), object(7)\n",
      "memory usage: 799.2+ KB\n"
     ]
    }
   ],
   "source": [
    "df.info()"
   ]
  },
  {
   "cell_type": "markdown",
   "metadata": {
    "hidden": true,
    "id": "g7PLyD-CojPn"
   },
   "source": [
    "### 1. What outlet types have the highest sales?"
   ]
  },
  {
   "cell_type": "code",
   "execution_count": 19,
   "metadata": {
    "colab": {
     "base_uri": "https://localhost:8080/"
    },
    "hidden": true,
    "id": "fgSbP9zKoJ_x",
    "outputId": "69ec8d4a-1ba5-4991-de2f-dba65b026986"
   },
   "outputs": [
    {
     "data": {
      "text/plain": [
       "Outlet_Type\n",
       "Grocery Store         339.828500\n",
       "Supermarket Type1    2316.181148\n",
       "Supermarket Type2    1995.498739\n",
       "Supermarket Type3    3694.038558\n",
       "Name: Item_Outlet_Sales, dtype: float64"
      ]
     },
     "execution_count": 19,
     "metadata": {},
     "output_type": "execute_result"
    }
   ],
   "source": [
    "# Get the average for each outlet type\n",
    "type_mean = df.groupby('Outlet_Type')['Item_Outlet_Sales'].mean()\n",
    "type_mean"
   ]
  },
  {
   "cell_type": "code",
   "execution_count": 20,
   "metadata": {
    "colab": {
     "base_uri": "https://localhost:8080/",
     "height": 578
    },
    "hidden": true,
    "id": "Q0ZROmhrupA7",
    "outputId": "abb1a9e2-cbe3-422b-af20-9d1f1e437943"
   },
   "outputs": [
    {
     "data": {
      "image/png": "[encoded data removed]",
      "text/plain": [
       "<Figure size 1000x600 with 1 Axes>"
      ]
     },
     "metadata": {},
     "output_type": "display_data"
    }
   ],
   "source": [
    "fig, ax = plt.subplots(figsize=(10,6))\n",
    "ax = sns.barplot(data=df, x='Outlet_Type', y='Item_Outlet_Sales')\n",
    "ax.set_title('Item Outlet Sales Based on Outlet Types', fontsize=20, fontweight='bold');\n",
    "ax.set_xlabel('Supermarket Type', fontsize=15)\n",
    "ax.set_ylabel('Sales ($)', fontsize=15);"
   ]
  },
  {
   "cell_type": "markdown",
   "metadata": {
    "hidden": true,
    "id": "qiXrE2qU32yO"
   },
   "source": [
    "- The bar graph above shows that Supermarket Type 3 has the highest amount of sales."
   ]
  },
  {
   "cell_type": "markdown",
   "metadata": {
    "hidden": true,
    "id": "QiYhtJeIoi97"
   },
   "source": [
    "### What product types bring in the most profits?"
   ]
  },
  {
   "cell_type": "code",
   "execution_count": 21,
   "metadata": {
    "colab": {
     "base_uri": "https://localhost:8080/",
     "height": 868
    },
    "hidden": true,
    "id": "OfV7hEpN9HZg",
    "outputId": "447770bd-daa1-4c49-c572-9daef91ce3a5"
   },
   "outputs": [
    {
     "data": {
      "image/png": "[encoded data removed]",
      "text/plain": [
       "<Figure size 1200x800 with 1 Axes>"
      ]
     },
     "metadata": {},
     "output_type": "display_data"
    }
   ],
   "source": [
    "fig, ax = plt.subplots(figsize=(12,8))\n",
    "ax = sns.barplot(data=df, x='Item_Type', y='Item_Outlet_Sales')\n",
    "ax.tick_params(axis='x', rotation=90)\n",
    "ax.set_title(\"Comparing Sales of Product Types\", fontsize=20, fontweight='bold');\n",
    "ax.set_xlabel('Product Type', fontsize=15, fontweight='bold')\n",
    "ax.set_ylabel('Sales ($)', fontsize=15, fontweight='bold');"
   ]
  },
  {
   "cell_type": "markdown",
   "metadata": {
    "hidden": true,
    "id": "5Ut90cIhCGDO"
   },
   "source": [
    "- The bar graph above shows that starchy foods has the highest profits."
   ]
  },
  {
   "cell_type": "markdown",
   "metadata": {},
   "source": [
    "# (Core) Project 1 Revisited: Importances and Coefficients"
   ]
  },
  {
   "cell_type": "markdown",
   "metadata": {},
   "source": [
    "## Task\n",
    "- For this assignment, you will revisit your first project to predict supermarket sales. You will apply what you've learned this week to explain how your models made their predictions."
   ]
  },
  {
   "cell_type": "markdown",
   "metadata": {},
   "source": [
    "## Project 1 Revisited - Part 1: Remaking, Saving, and Explaining Your Models\n",
    "For this part of the project, you will be producing a new version of your final project notebook using the updated tools in sklearn v1.2. You should continue to save your work in the same repo as your original Project 1. \n",
    "\n",
    "- Create a new notebook called \"Project 1 - Revisited.ipynb\" in your original project repo.\n",
    " - You may either make a copy of your prior notebook that you will modify,\n",
    "or you can start a new blank notebook and copy over the code from your old notebook (as needed).\n",
    "- Remake your X_train and X_test as DataFrames with the feature names extracted from the column transformer instead of combining your preprocessor and model into 1 pipeline."
   ]
  },
  {
   "cell_type": "code",
   "execution_count": 22,
   "metadata": {},
   "outputs": [
    {
     "name": "stdout",
     "output_type": "stream",
     "text": [
      "<class 'pandas.core.frame.DataFrame'>\n",
      "RangeIndex: 8523 entries, 0 to 8522\n",
      "Data columns (total 12 columns):\n",
      " #   Column                     Non-Null Count  Dtype  \n",
      "---  ------                     --------------  -----  \n",
      " 0   Item_Identifier            8523 non-null   object \n",
      " 1   Item_Weight                7060 non-null   float64\n",
      " 2   Item_Fat_Content           8523 non-null   object \n",
      " 3   Item_Visibility            8523 non-null   float64\n",
      " 4   Item_Type                  8523 non-null   object \n",
      " 5   Item_MRP                   8523 non-null   float64\n",
      " 6   Outlet_Identifier          8523 non-null   object \n",
      " 7   Outlet_Establishment_Year  8523 non-null   int64  \n",
      " 8   Outlet_Size                6113 non-null   object \n",
      " 9   Outlet_Location_Type       8523 non-null   object \n",
      " 10  Outlet_Type                8523 non-null   object \n",
      " 11  Item_Outlet_Sales          8523 non-null   float64\n",
      "dtypes: float64(4), int64(1), object(7)\n",
      "memory usage: 799.2+ KB\n"
     ]
    },
    {
     "data": {
      "text/html": [
       "<div>\n",
       "<style scoped>\n",
       "    .dataframe tbody tr th:only-of-type {\n",
       "        vertical-align: middle;\n",
       "    }\n",
       "\n",
       "    .dataframe tbody tr th {\n",
       "        vertical-align: top;\n",
       "    }\n",
       "\n",
       "    .dataframe thead th {\n",
       "        text-align: right;\n",
       "    }\n",
       "</style>\n",
       "<table border=\"1\" class=\"dataframe\">\n",
       "  <thead>\n",
       "    <tr style=\"text-align: right;\">\n",
       "      <th></th>\n",
       "      <th>Item_Identifier</th>\n",
       "      <th>Item_Weight</th>\n",
       "      <th>Item_Fat_Content</th>\n",
       "      <th>Item_Visibility</th>\n",
       "      <th>Item_Type</th>\n",
       "      <th>Item_MRP</th>\n",
       "      <th>Outlet_Identifier</th>\n",
       "      <th>Outlet_Establishment_Year</th>\n",
       "      <th>Outlet_Size</th>\n",
       "      <th>Outlet_Location_Type</th>\n",
       "      <th>Outlet_Type</th>\n",
       "      <th>Item_Outlet_Sales</th>\n",
       "    </tr>\n",
       "  </thead>\n",
       "  <tbody>\n",
       "    <tr>\n",
       "      <th>0</th>\n",
       "      <td>FDA15</td>\n",
       "      <td>9.30</td>\n",
       "      <td>Low Fat</td>\n",
       "      <td>0.016047</td>\n",
       "      <td>Dairy</td>\n",
       "      <td>249.8092</td>\n",
       "      <td>OUT049</td>\n",
       "      <td>1999</td>\n",
       "      <td>Medium</td>\n",
       "      <td>Tier 1</td>\n",
       "      <td>Supermarket Type1</td>\n",
       "      <td>3735.1380</td>\n",
       "    </tr>\n",
       "    <tr>\n",
       "      <th>1</th>\n",
       "      <td>DRC01</td>\n",
       "      <td>5.92</td>\n",
       "      <td>Regular</td>\n",
       "      <td>0.019278</td>\n",
       "      <td>Soft Drinks</td>\n",
       "      <td>48.2692</td>\n",
       "      <td>OUT018</td>\n",
       "      <td>2009</td>\n",
       "      <td>Medium</td>\n",
       "      <td>Tier 3</td>\n",
       "      <td>Supermarket Type2</td>\n",
       "      <td>443.4228</td>\n",
       "    </tr>\n",
       "    <tr>\n",
       "      <th>2</th>\n",
       "      <td>FDN15</td>\n",
       "      <td>17.50</td>\n",
       "      <td>Low Fat</td>\n",
       "      <td>0.016760</td>\n",
       "      <td>Meat</td>\n",
       "      <td>141.6180</td>\n",
       "      <td>OUT049</td>\n",
       "      <td>1999</td>\n",
       "      <td>Medium</td>\n",
       "      <td>Tier 1</td>\n",
       "      <td>Supermarket Type1</td>\n",
       "      <td>2097.2700</td>\n",
       "    </tr>\n",
       "    <tr>\n",
       "      <th>3</th>\n",
       "      <td>FDX07</td>\n",
       "      <td>19.20</td>\n",
       "      <td>Regular</td>\n",
       "      <td>0.000000</td>\n",
       "      <td>Fruits and Vegetables</td>\n",
       "      <td>182.0950</td>\n",
       "      <td>OUT010</td>\n",
       "      <td>1998</td>\n",
       "      <td>NaN</td>\n",
       "      <td>Tier 3</td>\n",
       "      <td>Grocery Store</td>\n",
       "      <td>732.3800</td>\n",
       "    </tr>\n",
       "    <tr>\n",
       "      <th>4</th>\n",
       "      <td>NCD19</td>\n",
       "      <td>8.93</td>\n",
       "      <td>Low Fat</td>\n",
       "      <td>0.000000</td>\n",
       "      <td>Household</td>\n",
       "      <td>53.8614</td>\n",
       "      <td>OUT013</td>\n",
       "      <td>1987</td>\n",
       "      <td>High</td>\n",
       "      <td>Tier 3</td>\n",
       "      <td>Supermarket Type1</td>\n",
       "      <td>994.7052</td>\n",
       "    </tr>\n",
       "  </tbody>\n",
       "</table>\n",
       "</div>"
      ],
      "text/plain": [
       "  Item_Identifier  Item_Weight Item_Fat_Content  Item_Visibility  \\\n",
       "0           FDA15         9.30          Low Fat         0.016047   \n",
       "1           DRC01         5.92          Regular         0.019278   \n",
       "2           FDN15        17.50          Low Fat         0.016760   \n",
       "3           FDX07        19.20          Regular         0.000000   \n",
       "4           NCD19         8.93          Low Fat         0.000000   \n",
       "\n",
       "               Item_Type  Item_MRP Outlet_Identifier  \\\n",
       "0                  Dairy  249.8092            OUT049   \n",
       "1            Soft Drinks   48.2692            OUT018   \n",
       "2                   Meat  141.6180            OUT049   \n",
       "3  Fruits and Vegetables  182.0950            OUT010   \n",
       "4              Household   53.8614            OUT013   \n",
       "\n",
       "   Outlet_Establishment_Year Outlet_Size Outlet_Location_Type  \\\n",
       "0                       1999      Medium               Tier 1   \n",
       "1                       2009      Medium               Tier 3   \n",
       "2                       1999      Medium               Tier 1   \n",
       "3                       1998         NaN               Tier 3   \n",
       "4                       1987        High               Tier 3   \n",
       "\n",
       "         Outlet_Type  Item_Outlet_Sales  \n",
       "0  Supermarket Type1          3735.1380  \n",
       "1  Supermarket Type2           443.4228  \n",
       "2  Supermarket Type1          2097.2700  \n",
       "3      Grocery Store           732.3800  \n",
       "4  Supermarket Type1           994.7052  "
      ]
     },
     "execution_count": 22,
     "metadata": {},
     "output_type": "execute_result"
    }
   ],
   "source": [
    "# Reload original dataframe\n",
    "df2 = pd.read_csv('Data/sales_predictions_2023.csv')\n",
    "df2.info()\n",
    "df2.head()"
   ]
  },
  {
   "cell_type": "code",
   "execution_count": 23,
   "metadata": {},
   "outputs": [
    {
     "data": {
      "text/plain": [
       "Item_Identifier                 0\n",
       "Item_Weight                  1463\n",
       "Item_Fat_Content                0\n",
       "Item_Visibility                 0\n",
       "Item_Type                       0\n",
       "Item_MRP                        0\n",
       "Outlet_Identifier               0\n",
       "Outlet_Establishment_Year       0\n",
       "Outlet_Size                  2410\n",
       "Outlet_Location_Type            0\n",
       "Outlet_Type                     0\n",
       "Item_Outlet_Sales               0\n",
       "dtype: int64"
      ]
     },
     "execution_count": 23,
     "metadata": {},
     "output_type": "execute_result"
    }
   ],
   "source": [
    "# Confirm new dataframe is the original version\n",
    "df2.isna().sum()"
   ]
  },
  {
   "cell_type": "markdown",
   "metadata": {},
   "source": [
    "### Train_Test_Split"
   ]
  },
  {
   "cell_type": "code",
   "execution_count": 24,
   "metadata": {},
   "outputs": [
    {
     "data": {
      "text/html": [
       "<div>\n",
       "<style scoped>\n",
       "    .dataframe tbody tr th:only-of-type {\n",
       "        vertical-align: middle;\n",
       "    }\n",
       "\n",
       "    .dataframe tbody tr th {\n",
       "        vertical-align: top;\n",
       "    }\n",
       "\n",
       "    .dataframe thead th {\n",
       "        text-align: right;\n",
       "    }\n",
       "</style>\n",
       "<table border=\"1\" class=\"dataframe\">\n",
       "  <thead>\n",
       "    <tr style=\"text-align: right;\">\n",
       "      <th></th>\n",
       "      <th>Item_Weight</th>\n",
       "      <th>Item_Fat_Content</th>\n",
       "      <th>Item_Visibility</th>\n",
       "      <th>Item_Type</th>\n",
       "      <th>Item_MRP</th>\n",
       "      <th>Outlet_Identifier</th>\n",
       "      <th>Outlet_Establishment_Year</th>\n",
       "      <th>Outlet_Size</th>\n",
       "      <th>Outlet_Location_Type</th>\n",
       "      <th>Outlet_Type</th>\n",
       "    </tr>\n",
       "  </thead>\n",
       "  <tbody>\n",
       "    <tr>\n",
       "      <th>8269</th>\n",
       "      <td>7.220</td>\n",
       "      <td>Regular</td>\n",
       "      <td>0.064142</td>\n",
       "      <td>Baking Goods</td>\n",
       "      <td>61.2510</td>\n",
       "      <td>OUT010</td>\n",
       "      <td>1998</td>\n",
       "      <td>NaN</td>\n",
       "      <td>Tier 3</td>\n",
       "      <td>Grocery Store</td>\n",
       "    </tr>\n",
       "    <tr>\n",
       "      <th>7604</th>\n",
       "      <td>6.135</td>\n",
       "      <td>LF</td>\n",
       "      <td>0.079294</td>\n",
       "      <td>Soft Drinks</td>\n",
       "      <td>111.2860</td>\n",
       "      <td>OUT018</td>\n",
       "      <td>2009</td>\n",
       "      <td>Medium</td>\n",
       "      <td>Tier 3</td>\n",
       "      <td>Supermarket Type2</td>\n",
       "    </tr>\n",
       "    <tr>\n",
       "      <th>2762</th>\n",
       "      <td>12.150</td>\n",
       "      <td>Low Fat</td>\n",
       "      <td>0.028593</td>\n",
       "      <td>Household</td>\n",
       "      <td>151.0708</td>\n",
       "      <td>OUT035</td>\n",
       "      <td>2004</td>\n",
       "      <td>Small</td>\n",
       "      <td>Tier 2</td>\n",
       "      <td>Supermarket Type1</td>\n",
       "    </tr>\n",
       "    <tr>\n",
       "      <th>6464</th>\n",
       "      <td>5.945</td>\n",
       "      <td>LF</td>\n",
       "      <td>0.093009</td>\n",
       "      <td>Household</td>\n",
       "      <td>127.8652</td>\n",
       "      <td>OUT035</td>\n",
       "      <td>2004</td>\n",
       "      <td>Small</td>\n",
       "      <td>Tier 2</td>\n",
       "      <td>Supermarket Type1</td>\n",
       "    </tr>\n",
       "    <tr>\n",
       "      <th>4707</th>\n",
       "      <td>18.200</td>\n",
       "      <td>Regular</td>\n",
       "      <td>0.066285</td>\n",
       "      <td>Fruits and Vegetables</td>\n",
       "      <td>247.2092</td>\n",
       "      <td>OUT035</td>\n",
       "      <td>2004</td>\n",
       "      <td>Small</td>\n",
       "      <td>Tier 2</td>\n",
       "      <td>Supermarket Type1</td>\n",
       "    </tr>\n",
       "  </tbody>\n",
       "</table>\n",
       "</div>"
      ],
      "text/plain": [
       "      Item_Weight Item_Fat_Content  Item_Visibility              Item_Type  \\\n",
       "8269        7.220          Regular         0.064142           Baking Goods   \n",
       "7604        6.135               LF         0.079294            Soft Drinks   \n",
       "2762       12.150          Low Fat         0.028593              Household   \n",
       "6464        5.945               LF         0.093009              Household   \n",
       "4707       18.200          Regular         0.066285  Fruits and Vegetables   \n",
       "\n",
       "      Item_MRP Outlet_Identifier  Outlet_Establishment_Year Outlet_Size  \\\n",
       "8269   61.2510            OUT010                       1998         NaN   \n",
       "7604  111.2860            OUT018                       2009      Medium   \n",
       "2762  151.0708            OUT035                       2004       Small   \n",
       "6464  127.8652            OUT035                       2004       Small   \n",
       "4707  247.2092            OUT035                       2004       Small   \n",
       "\n",
       "     Outlet_Location_Type        Outlet_Type  \n",
       "8269               Tier 3      Grocery Store  \n",
       "7604               Tier 3  Supermarket Type2  \n",
       "2762               Tier 2  Supermarket Type1  \n",
       "6464               Tier 2  Supermarket Type1  \n",
       "4707               Tier 2  Supermarket Type1  "
      ]
     },
     "execution_count": 24,
     "metadata": {},
     "output_type": "execute_result"
    }
   ],
   "source": [
    "# Make X and y variables\n",
    "y = df2['Item_Outlet_Sales'].copy()\n",
    "X = df2.drop(columns=['Item_Outlet_Sales', 'Item_Identifier']).copy()\n",
    "# Train-test-split with random state for reproducibility\n",
    "X_train, X_test, y_train, y_test = train_test_split(X,y, random_state=SEED)\n",
    "X_train.head()"
   ]
  },
  {
   "cell_type": "markdown",
   "metadata": {},
   "source": [
    "### Preprocessing \n"
   ]
  },
  {
   "cell_type": "code",
   "execution_count": 25,
   "metadata": {},
   "outputs": [
    {
     "data": {
      "text/plain": [
       "['Item_Fat_Content',\n",
       " 'Item_Type',\n",
       " 'Outlet_Identifier',\n",
       " 'Outlet_Size',\n",
       " 'Outlet_Location_Type',\n",
       " 'Outlet_Type']"
      ]
     },
     "execution_count": 25,
     "metadata": {},
     "output_type": "execute_result"
    }
   ],
   "source": [
    "# Make categorical selector and verify it works\n",
    "cat_select = make_column_selector(dtype_include='object')\n",
    "cat_select(X_train)"
   ]
  },
  {
   "cell_type": "code",
   "execution_count": 26,
   "metadata": {},
   "outputs": [
    {
     "data": {
      "text/plain": [
       "['Item_Weight', 'Item_Visibility', 'Item_MRP', 'Outlet_Establishment_Year']"
      ]
     },
     "execution_count": 26,
     "metadata": {},
     "output_type": "execute_result"
    }
   ],
   "source": [
    "# Make numeric selector and verify it works\n",
    "num_select = make_column_selector(dtype_include='number')\n",
    "num_select(X_train)"
   ]
  },
  {
   "cell_type": "code",
   "execution_count": 27,
   "metadata": {},
   "outputs": [],
   "source": [
    "# Make pipelines for categorical vs numeric data\n",
    "cat_pipe = make_pipeline(SimpleImputer(strategy='constant', fill_value='N/A'),\n",
    "                        OneHotEncoder(handle_unknown='ignore', sparse=False))\n",
    "num_pipe = make_pipeline(SimpleImputer(strategy='mean'))"
   ]
  },
  {
   "cell_type": "markdown",
   "metadata": {},
   "source": [
    "### Columntransformer"
   ]
  },
  {
   "cell_type": "code",
   "execution_count": 28,
   "metadata": {},
   "outputs": [
    {
     "data": {
      "text/html": [
       "<style>#sk-container-id-1 {color: black;background-color: white;}#sk-container-id-1 pre{padding: 0;}#sk-container-id-1 div.sk-toggleable {background-color: white;}#sk-container-id-1 label.sk-toggleable__label {cursor: pointer;display: block;width: 100%;margin-bottom: 0;padding: 0.3em;box-sizing: border-box;text-align: center;}#sk-container-id-1 label.sk-toggleable__label-arrow:before {content: \"▸\";float: left;margin-right: 0.25em;color: #696969;}#sk-container-id-1 label.sk-toggleable__label-arrow:hover:before {color: black;}#sk-container-id-1 div.sk-estimator:hover label.sk-toggleable__label-arrow:before {color: black;}#sk-container-id-1 div.sk-toggleable__content {max-height: 0;max-width: 0;overflow: hidden;text-align: left;background-color: #f0f8ff;}#sk-container-id-1 div.sk-toggleable__content pre {margin: 0.2em;color: black;border-radius: 0.25em;background-color: #f0f8ff;}#sk-container-id-1 input.sk-toggleable__control:checked~div.sk-toggleable__content {max-height: 200px;max-width: 100%;overflow: auto;}#sk-container-id-1 input.sk-toggleable__control:checked~label.sk-toggleable__label-arrow:before {content: \"▾\";}#sk-container-id-1 div.sk-estimator input.sk-toggleable__control:checked~label.sk-toggleable__label {background-color: #d4ebff;}#sk-container-id-1 div.sk-label input.sk-toggleable__control:checked~label.sk-toggleable__label {background-color: #d4ebff;}#sk-container-id-1 input.sk-hidden--visually {border: 0;clip: rect(1px 1px 1px 1px);clip: rect(1px, 1px, 1px, 1px);height: 1px;margin: -1px;overflow: hidden;padding: 0;position: absolute;width: 1px;}#sk-container-id-1 div.sk-estimator {font-family: monospace;background-color: #f0f8ff;border: 1px dotted black;border-radius: 0.25em;box-sizing: border-box;margin-bottom: 0.5em;}#sk-container-id-1 div.sk-estimator:hover {background-color: #d4ebff;}#sk-container-id-1 div.sk-parallel-item::after {content: \"\";width: 100%;border-bottom: 1px solid gray;flex-grow: 1;}#sk-container-id-1 div.sk-label:hover label.sk-toggleable__label {background-color: #d4ebff;}#sk-container-id-1 div.sk-serial::before {content: \"\";position: absolute;border-left: 1px solid gray;box-sizing: border-box;top: 0;bottom: 0;left: 50%;z-index: 0;}#sk-container-id-1 div.sk-serial {display: flex;flex-direction: column;align-items: center;background-color: white;padding-right: 0.2em;padding-left: 0.2em;position: relative;}#sk-container-id-1 div.sk-item {position: relative;z-index: 1;}#sk-container-id-1 div.sk-parallel {display: flex;align-items: stretch;justify-content: center;background-color: white;position: relative;}#sk-container-id-1 div.sk-item::before, #sk-container-id-1 div.sk-parallel-item::before {content: \"\";position: absolute;border-left: 1px solid gray;box-sizing: border-box;top: 0;bottom: 0;left: 50%;z-index: -1;}#sk-container-id-1 div.sk-parallel-item {display: flex;flex-direction: column;z-index: 1;position: relative;background-color: white;}#sk-container-id-1 div.sk-parallel-item:first-child::after {align-self: flex-end;width: 50%;}#sk-container-id-1 div.sk-parallel-item:last-child::after {align-self: flex-start;width: 50%;}#sk-container-id-1 div.sk-parallel-item:only-child::after {width: 0;}#sk-container-id-1 div.sk-dashed-wrapped {border: 1px dashed gray;margin: 0 0.4em 0.5em 0.4em;box-sizing: border-box;padding-bottom: 0.4em;background-color: white;}#sk-container-id-1 div.sk-label label {font-family: monospace;font-weight: bold;display: inline-block;line-height: 1.2em;}#sk-container-id-1 div.sk-label-container {text-align: center;}#sk-container-id-1 div.sk-container {/* jupyter's `normalize.less` sets `[hidden] { display: none; }` but bootstrap.min.css set `[hidden] { display: none !important; }` so we also need the `!important` here to be able to override the default hidden behavior on the sphinx rendered scikit-learn.org. See: https://github.com/scikit-learn/scikit-learn/issues/21755 */display: inline-block !important;position: relative;}#sk-container-id-1 div.sk-text-repr-fallback {display: none;}</style><div id=\"sk-container-id-1\" class=\"sk-top-container\"><div class=\"sk-text-repr-fallback\"><pre>ColumnTransformer(transformers=[(&#x27;pipeline-1&#x27;,\n",
       "                                 Pipeline(steps=[(&#x27;simpleimputer&#x27;,\n",
       "                                                  SimpleImputer())]),\n",
       "                                 &lt;sklearn.compose._column_transformer.make_column_selector object at 0x000002335739DA30&gt;),\n",
       "                                (&#x27;pipeline-2&#x27;,\n",
       "                                 Pipeline(steps=[(&#x27;simpleimputer&#x27;,\n",
       "                                                  SimpleImputer(fill_value=&#x27;N/A&#x27;,\n",
       "                                                                strategy=&#x27;constant&#x27;)),\n",
       "                                                 (&#x27;onehotencoder&#x27;,\n",
       "                                                  OneHotEncoder(handle_unknown=&#x27;ignore&#x27;,\n",
       "                                                                sparse=False))]),\n",
       "                                 &lt;sklearn.compose._column_transformer.make_column_selector object at 0x000002335739DBE0&gt;)],\n",
       "                  verbose_feature_names_out=False)</pre><b>In a Jupyter environment, please rerun this cell to show the HTML representation or trust the notebook. <br />On GitHub, the HTML representation is unable to render, please try loading this page with nbviewer.org.</b></div><div class=\"sk-container\" hidden><div class=\"sk-item sk-dashed-wrapped\"><div class=\"sk-label-container\"><div class=\"sk-label sk-toggleable\"><input class=\"sk-toggleable__control sk-hidden--visually\" id=\"sk-estimator-id-1\" type=\"checkbox\" ><label for=\"sk-estimator-id-1\" class=\"sk-toggleable__label sk-toggleable__label-arrow\">ColumnTransformer</label><div class=\"sk-toggleable__content\"><pre>ColumnTransformer(transformers=[(&#x27;pipeline-1&#x27;,\n",
       "                                 Pipeline(steps=[(&#x27;simpleimputer&#x27;,\n",
       "                                                  SimpleImputer())]),\n",
       "                                 &lt;sklearn.compose._column_transformer.make_column_selector object at 0x000002335739DA30&gt;),\n",
       "                                (&#x27;pipeline-2&#x27;,\n",
       "                                 Pipeline(steps=[(&#x27;simpleimputer&#x27;,\n",
       "                                                  SimpleImputer(fill_value=&#x27;N/A&#x27;,\n",
       "                                                                strategy=&#x27;constant&#x27;)),\n",
       "                                                 (&#x27;onehotencoder&#x27;,\n",
       "                                                  OneHotEncoder(handle_unknown=&#x27;ignore&#x27;,\n",
       "                                                                sparse=False))]),\n",
       "                                 &lt;sklearn.compose._column_transformer.make_column_selector object at 0x000002335739DBE0&gt;)],\n",
       "                  verbose_feature_names_out=False)</pre></div></div></div><div class=\"sk-parallel\"><div class=\"sk-parallel-item\"><div class=\"sk-item\"><div class=\"sk-label-container\"><div class=\"sk-label sk-toggleable\"><input class=\"sk-toggleable__control sk-hidden--visually\" id=\"sk-estimator-id-2\" type=\"checkbox\" ><label for=\"sk-estimator-id-2\" class=\"sk-toggleable__label sk-toggleable__label-arrow\">pipeline-1</label><div class=\"sk-toggleable__content\"><pre>&lt;sklearn.compose._column_transformer.make_column_selector object at 0x000002335739DA30&gt;</pre></div></div></div><div class=\"sk-serial\"><div class=\"sk-item\"><div class=\"sk-serial\"><div class=\"sk-item\"><div class=\"sk-estimator sk-toggleable\"><input class=\"sk-toggleable__control sk-hidden--visually\" id=\"sk-estimator-id-3\" type=\"checkbox\" ><label for=\"sk-estimator-id-3\" class=\"sk-toggleable__label sk-toggleable__label-arrow\">SimpleImputer</label><div class=\"sk-toggleable__content\"><pre>SimpleImputer()</pre></div></div></div></div></div></div></div></div><div class=\"sk-parallel-item\"><div class=\"sk-item\"><div class=\"sk-label-container\"><div class=\"sk-label sk-toggleable\"><input class=\"sk-toggleable__control sk-hidden--visually\" id=\"sk-estimator-id-4\" type=\"checkbox\" ><label for=\"sk-estimator-id-4\" class=\"sk-toggleable__label sk-toggleable__label-arrow\">pipeline-2</label><div class=\"sk-toggleable__content\"><pre>&lt;sklearn.compose._column_transformer.make_column_selector object at 0x000002335739DBE0&gt;</pre></div></div></div><div class=\"sk-serial\"><div class=\"sk-item\"><div class=\"sk-serial\"><div class=\"sk-item\"><div class=\"sk-estimator sk-toggleable\"><input class=\"sk-toggleable__control sk-hidden--visually\" id=\"sk-estimator-id-5\" type=\"checkbox\" ><label for=\"sk-estimator-id-5\" class=\"sk-toggleable__label sk-toggleable__label-arrow\">SimpleImputer</label><div class=\"sk-toggleable__content\"><pre>SimpleImputer(fill_value=&#x27;N/A&#x27;, strategy=&#x27;constant&#x27;)</pre></div></div></div><div class=\"sk-item\"><div class=\"sk-estimator sk-toggleable\"><input class=\"sk-toggleable__control sk-hidden--visually\" id=\"sk-estimator-id-6\" type=\"checkbox\" ><label for=\"sk-estimator-id-6\" class=\"sk-toggleable__label sk-toggleable__label-arrow\">OneHotEncoder</label><div class=\"sk-toggleable__content\"><pre>OneHotEncoder(handle_unknown=&#x27;ignore&#x27;, sparse=False)</pre></div></div></div></div></div></div></div></div></div></div></div></div>"
      ],
      "text/plain": [
       "ColumnTransformer(transformers=[('pipeline-1',\n",
       "                                 Pipeline(steps=[('simpleimputer',\n",
       "                                                  SimpleImputer())]),\n",
       "                                 <sklearn.compose._column_transformer.make_column_selector object at 0x000002335739DA30>),\n",
       "                                ('pipeline-2',\n",
       "                                 Pipeline(steps=[('simpleimputer',\n",
       "                                                  SimpleImputer(fill_value='N/A',\n",
       "                                                                strategy='constant')),\n",
       "                                                 ('onehotencoder',\n",
       "                                                  OneHotEncoder(handle_unknown='ignore',\n",
       "                                                                sparse=False))]),\n",
       "                                 <sklearn.compose._column_transformer.make_column_selector object at 0x000002335739DBE0>)],\n",
       "                  verbose_feature_names_out=False)"
      ]
     },
     "execution_count": 28,
     "metadata": {},
     "output_type": "execute_result"
    }
   ],
   "source": [
    "# Make the preprocessing column transformer\n",
    "preprocessor = make_column_transformer((num_pipe, num_select),\n",
    "                                       (cat_pipe, cat_select),\n",
    "                                       verbose_feature_names_out=False)\n",
    "preprocessor"
   ]
  },
  {
   "cell_type": "markdown",
   "metadata": {},
   "source": [
    "### Extract Feature Names from Columntransfomer"
   ]
  },
  {
   "cell_type": "code",
   "execution_count": 29,
   "metadata": {},
   "outputs": [
    {
     "data": {
      "text/plain": [
       "array(['Item_Weight', 'Item_Visibility', 'Item_MRP',\n",
       "       'Outlet_Establishment_Year', 'Item_Fat_Content_LF',\n",
       "       'Item_Fat_Content_Low Fat', 'Item_Fat_Content_Regular',\n",
       "       'Item_Fat_Content_low fat', 'Item_Fat_Content_reg',\n",
       "       'Item_Type_Baking Goods', 'Item_Type_Breads',\n",
       "       'Item_Type_Breakfast', 'Item_Type_Canned', 'Item_Type_Dairy',\n",
       "       'Item_Type_Frozen Foods', 'Item_Type_Fruits and Vegetables',\n",
       "       'Item_Type_Hard Drinks', 'Item_Type_Health and Hygiene',\n",
       "       'Item_Type_Household', 'Item_Type_Meat', 'Item_Type_Others',\n",
       "       'Item_Type_Seafood', 'Item_Type_Snack Foods',\n",
       "       'Item_Type_Soft Drinks', 'Item_Type_Starchy Foods',\n",
       "       'Outlet_Identifier_OUT010', 'Outlet_Identifier_OUT013',\n",
       "       'Outlet_Identifier_OUT017', 'Outlet_Identifier_OUT018',\n",
       "       'Outlet_Identifier_OUT019', 'Outlet_Identifier_OUT027',\n",
       "       'Outlet_Identifier_OUT035', 'Outlet_Identifier_OUT045',\n",
       "       'Outlet_Identifier_OUT046', 'Outlet_Identifier_OUT049',\n",
       "       'Outlet_Size_High', 'Outlet_Size_Medium', 'Outlet_Size_N/A',\n",
       "       'Outlet_Size_Small', 'Outlet_Location_Type_Tier 1',\n",
       "       'Outlet_Location_Type_Tier 2', 'Outlet_Location_Type_Tier 3',\n",
       "       'Outlet_Type_Grocery Store', 'Outlet_Type_Supermarket Type1',\n",
       "       'Outlet_Type_Supermarket Type2', 'Outlet_Type_Supermarket Type3'],\n",
       "      dtype=object)"
      ]
     },
     "execution_count": 29,
     "metadata": {},
     "output_type": "execute_result"
    }
   ],
   "source": [
    "# Fit column transformer and run get_feature_names_out\n",
    "preprocessor.fit(X_train)\n",
    "feature_names = preprocessor.get_feature_names_out()\n",
    "feature_names"
   ]
  },
  {
   "cell_type": "markdown",
   "metadata": {},
   "source": [
    "### Remake your X_train and X_test as DataFrames with the Feature Names"
   ]
  },
  {
   "cell_type": "code",
   "execution_count": 30,
   "metadata": {},
   "outputs": [
    {
     "data": {
      "text/html": [
       "<div>\n",
       "<style scoped>\n",
       "    .dataframe tbody tr th:only-of-type {\n",
       "        vertical-align: middle;\n",
       "    }\n",
       "\n",
       "    .dataframe tbody tr th {\n",
       "        vertical-align: top;\n",
       "    }\n",
       "\n",
       "    .dataframe thead th {\n",
       "        text-align: right;\n",
       "    }\n",
       "</style>\n",
       "<table border=\"1\" class=\"dataframe\">\n",
       "  <thead>\n",
       "    <tr style=\"text-align: right;\">\n",
       "      <th></th>\n",
       "      <th>Item_Weight</th>\n",
       "      <th>Item_Visibility</th>\n",
       "      <th>Item_MRP</th>\n",
       "      <th>Outlet_Establishment_Year</th>\n",
       "      <th>Item_Fat_Content_LF</th>\n",
       "      <th>Item_Fat_Content_Low Fat</th>\n",
       "      <th>Item_Fat_Content_Regular</th>\n",
       "      <th>Item_Fat_Content_low fat</th>\n",
       "      <th>Item_Fat_Content_reg</th>\n",
       "      <th>Item_Type_Baking Goods</th>\n",
       "      <th>...</th>\n",
       "      <th>Outlet_Size_Medium</th>\n",
       "      <th>Outlet_Size_N/A</th>\n",
       "      <th>Outlet_Size_Small</th>\n",
       "      <th>Outlet_Location_Type_Tier 1</th>\n",
       "      <th>Outlet_Location_Type_Tier 2</th>\n",
       "      <th>Outlet_Location_Type_Tier 3</th>\n",
       "      <th>Outlet_Type_Grocery Store</th>\n",
       "      <th>Outlet_Type_Supermarket Type1</th>\n",
       "      <th>Outlet_Type_Supermarket Type2</th>\n",
       "      <th>Outlet_Type_Supermarket Type3</th>\n",
       "    </tr>\n",
       "  </thead>\n",
       "  <tbody>\n",
       "    <tr>\n",
       "      <th>8269</th>\n",
       "      <td>7.220</td>\n",
       "      <td>0.064142</td>\n",
       "      <td>61.2510</td>\n",
       "      <td>1998.0</td>\n",
       "      <td>0.0</td>\n",
       "      <td>0.0</td>\n",
       "      <td>1.0</td>\n",
       "      <td>0.0</td>\n",
       "      <td>0.0</td>\n",
       "      <td>1.0</td>\n",
       "      <td>...</td>\n",
       "      <td>0.0</td>\n",
       "      <td>1.0</td>\n",
       "      <td>0.0</td>\n",
       "      <td>0.0</td>\n",
       "      <td>0.0</td>\n",
       "      <td>1.0</td>\n",
       "      <td>1.0</td>\n",
       "      <td>0.0</td>\n",
       "      <td>0.0</td>\n",
       "      <td>0.0</td>\n",
       "    </tr>\n",
       "    <tr>\n",
       "      <th>7604</th>\n",
       "      <td>6.135</td>\n",
       "      <td>0.079294</td>\n",
       "      <td>111.2860</td>\n",
       "      <td>2009.0</td>\n",
       "      <td>1.0</td>\n",
       "      <td>0.0</td>\n",
       "      <td>0.0</td>\n",
       "      <td>0.0</td>\n",
       "      <td>0.0</td>\n",
       "      <td>0.0</td>\n",
       "      <td>...</td>\n",
       "      <td>1.0</td>\n",
       "      <td>0.0</td>\n",
       "      <td>0.0</td>\n",
       "      <td>0.0</td>\n",
       "      <td>0.0</td>\n",
       "      <td>1.0</td>\n",
       "      <td>0.0</td>\n",
       "      <td>0.0</td>\n",
       "      <td>1.0</td>\n",
       "      <td>0.0</td>\n",
       "    </tr>\n",
       "    <tr>\n",
       "      <th>2762</th>\n",
       "      <td>12.150</td>\n",
       "      <td>0.028593</td>\n",
       "      <td>151.0708</td>\n",
       "      <td>2004.0</td>\n",
       "      <td>0.0</td>\n",
       "      <td>1.0</td>\n",
       "      <td>0.0</td>\n",
       "      <td>0.0</td>\n",
       "      <td>0.0</td>\n",
       "      <td>0.0</td>\n",
       "      <td>...</td>\n",
       "      <td>0.0</td>\n",
       "      <td>0.0</td>\n",
       "      <td>1.0</td>\n",
       "      <td>0.0</td>\n",
       "      <td>1.0</td>\n",
       "      <td>0.0</td>\n",
       "      <td>0.0</td>\n",
       "      <td>1.0</td>\n",
       "      <td>0.0</td>\n",
       "      <td>0.0</td>\n",
       "    </tr>\n",
       "    <tr>\n",
       "      <th>6464</th>\n",
       "      <td>5.945</td>\n",
       "      <td>0.093009</td>\n",
       "      <td>127.8652</td>\n",
       "      <td>2004.0</td>\n",
       "      <td>1.0</td>\n",
       "      <td>0.0</td>\n",
       "      <td>0.0</td>\n",
       "      <td>0.0</td>\n",
       "      <td>0.0</td>\n",
       "      <td>0.0</td>\n",
       "      <td>...</td>\n",
       "      <td>0.0</td>\n",
       "      <td>0.0</td>\n",
       "      <td>1.0</td>\n",
       "      <td>0.0</td>\n",
       "      <td>1.0</td>\n",
       "      <td>0.0</td>\n",
       "      <td>0.0</td>\n",
       "      <td>1.0</td>\n",
       "      <td>0.0</td>\n",
       "      <td>0.0</td>\n",
       "    </tr>\n",
       "    <tr>\n",
       "      <th>4707</th>\n",
       "      <td>18.200</td>\n",
       "      <td>0.066285</td>\n",
       "      <td>247.2092</td>\n",
       "      <td>2004.0</td>\n",
       "      <td>0.0</td>\n",
       "      <td>0.0</td>\n",
       "      <td>1.0</td>\n",
       "      <td>0.0</td>\n",
       "      <td>0.0</td>\n",
       "      <td>0.0</td>\n",
       "      <td>...</td>\n",
       "      <td>0.0</td>\n",
       "      <td>0.0</td>\n",
       "      <td>1.0</td>\n",
       "      <td>0.0</td>\n",
       "      <td>1.0</td>\n",
       "      <td>0.0</td>\n",
       "      <td>0.0</td>\n",
       "      <td>1.0</td>\n",
       "      <td>0.0</td>\n",
       "      <td>0.0</td>\n",
       "    </tr>\n",
       "  </tbody>\n",
       "</table>\n",
       "<p>5 rows × 46 columns</p>\n",
       "</div>"
      ],
      "text/plain": [
       "      Item_Weight  Item_Visibility  Item_MRP  Outlet_Establishment_Year  \\\n",
       "8269        7.220         0.064142   61.2510                     1998.0   \n",
       "7604        6.135         0.079294  111.2860                     2009.0   \n",
       "2762       12.150         0.028593  151.0708                     2004.0   \n",
       "6464        5.945         0.093009  127.8652                     2004.0   \n",
       "4707       18.200         0.066285  247.2092                     2004.0   \n",
       "\n",
       "      Item_Fat_Content_LF  Item_Fat_Content_Low Fat  Item_Fat_Content_Regular  \\\n",
       "8269                  0.0                       0.0                       1.0   \n",
       "7604                  1.0                       0.0                       0.0   \n",
       "2762                  0.0                       1.0                       0.0   \n",
       "6464                  1.0                       0.0                       0.0   \n",
       "4707                  0.0                       0.0                       1.0   \n",
       "\n",
       "      Item_Fat_Content_low fat  Item_Fat_Content_reg  Item_Type_Baking Goods  \\\n",
       "8269                       0.0                   0.0                     1.0   \n",
       "7604                       0.0                   0.0                     0.0   \n",
       "2762                       0.0                   0.0                     0.0   \n",
       "6464                       0.0                   0.0                     0.0   \n",
       "4707                       0.0                   0.0                     0.0   \n",
       "\n",
       "      ...  Outlet_Size_Medium  Outlet_Size_N/A  Outlet_Size_Small  \\\n",
       "8269  ...                 0.0              1.0                0.0   \n",
       "7604  ...                 1.0              0.0                0.0   \n",
       "2762  ...                 0.0              0.0                1.0   \n",
       "6464  ...                 0.0              0.0                1.0   \n",
       "4707  ...                 0.0              0.0                1.0   \n",
       "\n",
       "      Outlet_Location_Type_Tier 1  Outlet_Location_Type_Tier 2  \\\n",
       "8269                          0.0                          0.0   \n",
       "7604                          0.0                          0.0   \n",
       "2762                          0.0                          1.0   \n",
       "6464                          0.0                          1.0   \n",
       "4707                          0.0                          1.0   \n",
       "\n",
       "      Outlet_Location_Type_Tier 3  Outlet_Type_Grocery Store  \\\n",
       "8269                          1.0                        1.0   \n",
       "7604                          1.0                        0.0   \n",
       "2762                          0.0                        0.0   \n",
       "6464                          0.0                        0.0   \n",
       "4707                          0.0                        0.0   \n",
       "\n",
       "      Outlet_Type_Supermarket Type1  Outlet_Type_Supermarket Type2  \\\n",
       "8269                            0.0                            0.0   \n",
       "7604                            0.0                            1.0   \n",
       "2762                            1.0                            0.0   \n",
       "6464                            1.0                            0.0   \n",
       "4707                            1.0                            0.0   \n",
       "\n",
       "      Outlet_Type_Supermarket Type3  \n",
       "8269                            0.0  \n",
       "7604                            0.0  \n",
       "2762                            0.0  \n",
       "6464                            0.0  \n",
       "4707                            0.0  \n",
       "\n",
       "[5 rows x 46 columns]"
      ]
     },
     "execution_count": 30,
     "metadata": {},
     "output_type": "execute_result"
    }
   ],
   "source": [
    "# Convert training data into dataframe\n",
    "X_train_df = pd.DataFrame(preprocessor.transform(X_train),\n",
    "                         columns = feature_names, index = X_train.index)\n",
    "X_train_df.head()"
   ]
  },
  {
   "cell_type": "code",
   "execution_count": 31,
   "metadata": {},
   "outputs": [
    {
     "data": {
      "text/html": [
       "<div>\n",
       "<style scoped>\n",
       "    .dataframe tbody tr th:only-of-type {\n",
       "        vertical-align: middle;\n",
       "    }\n",
       "\n",
       "    .dataframe tbody tr th {\n",
       "        vertical-align: top;\n",
       "    }\n",
       "\n",
       "    .dataframe thead th {\n",
       "        text-align: right;\n",
       "    }\n",
       "</style>\n",
       "<table border=\"1\" class=\"dataframe\">\n",
       "  <thead>\n",
       "    <tr style=\"text-align: right;\">\n",
       "      <th></th>\n",
       "      <th>Item_Weight</th>\n",
       "      <th>Item_Visibility</th>\n",
       "      <th>Item_MRP</th>\n",
       "      <th>Outlet_Establishment_Year</th>\n",
       "      <th>Item_Fat_Content_LF</th>\n",
       "      <th>Item_Fat_Content_Low Fat</th>\n",
       "      <th>Item_Fat_Content_Regular</th>\n",
       "      <th>Item_Fat_Content_low fat</th>\n",
       "      <th>Item_Fat_Content_reg</th>\n",
       "      <th>Item_Type_Baking Goods</th>\n",
       "      <th>...</th>\n",
       "      <th>Outlet_Size_Medium</th>\n",
       "      <th>Outlet_Size_N/A</th>\n",
       "      <th>Outlet_Size_Small</th>\n",
       "      <th>Outlet_Location_Type_Tier 1</th>\n",
       "      <th>Outlet_Location_Type_Tier 2</th>\n",
       "      <th>Outlet_Location_Type_Tier 3</th>\n",
       "      <th>Outlet_Type_Grocery Store</th>\n",
       "      <th>Outlet_Type_Supermarket Type1</th>\n",
       "      <th>Outlet_Type_Supermarket Type2</th>\n",
       "      <th>Outlet_Type_Supermarket Type3</th>\n",
       "    </tr>\n",
       "  </thead>\n",
       "  <tbody>\n",
       "    <tr>\n",
       "      <th>8077</th>\n",
       "      <td>15.250000</td>\n",
       "      <td>0.061531</td>\n",
       "      <td>132.2968</td>\n",
       "      <td>2007.0</td>\n",
       "      <td>0.0</td>\n",
       "      <td>1.0</td>\n",
       "      <td>0.0</td>\n",
       "      <td>0.0</td>\n",
       "      <td>0.0</td>\n",
       "      <td>0.0</td>\n",
       "      <td>...</td>\n",
       "      <td>0.0</td>\n",
       "      <td>1.0</td>\n",
       "      <td>0.0</td>\n",
       "      <td>0.0</td>\n",
       "      <td>1.0</td>\n",
       "      <td>0.0</td>\n",
       "      <td>0.0</td>\n",
       "      <td>1.0</td>\n",
       "      <td>0.0</td>\n",
       "      <td>0.0</td>\n",
       "    </tr>\n",
       "    <tr>\n",
       "      <th>2391</th>\n",
       "      <td>17.850000</td>\n",
       "      <td>0.044463</td>\n",
       "      <td>127.1020</td>\n",
       "      <td>1997.0</td>\n",
       "      <td>0.0</td>\n",
       "      <td>1.0</td>\n",
       "      <td>0.0</td>\n",
       "      <td>0.0</td>\n",
       "      <td>0.0</td>\n",
       "      <td>0.0</td>\n",
       "      <td>...</td>\n",
       "      <td>0.0</td>\n",
       "      <td>0.0</td>\n",
       "      <td>1.0</td>\n",
       "      <td>1.0</td>\n",
       "      <td>0.0</td>\n",
       "      <td>0.0</td>\n",
       "      <td>0.0</td>\n",
       "      <td>1.0</td>\n",
       "      <td>0.0</td>\n",
       "      <td>0.0</td>\n",
       "    </tr>\n",
       "    <tr>\n",
       "      <th>163</th>\n",
       "      <td>7.270000</td>\n",
       "      <td>0.071078</td>\n",
       "      <td>114.2518</td>\n",
       "      <td>1997.0</td>\n",
       "      <td>0.0</td>\n",
       "      <td>1.0</td>\n",
       "      <td>0.0</td>\n",
       "      <td>0.0</td>\n",
       "      <td>0.0</td>\n",
       "      <td>0.0</td>\n",
       "      <td>...</td>\n",
       "      <td>0.0</td>\n",
       "      <td>0.0</td>\n",
       "      <td>1.0</td>\n",
       "      <td>1.0</td>\n",
       "      <td>0.0</td>\n",
       "      <td>0.0</td>\n",
       "      <td>0.0</td>\n",
       "      <td>1.0</td>\n",
       "      <td>0.0</td>\n",
       "      <td>0.0</td>\n",
       "    </tr>\n",
       "    <tr>\n",
       "      <th>4608</th>\n",
       "      <td>12.822634</td>\n",
       "      <td>0.075142</td>\n",
       "      <td>145.8444</td>\n",
       "      <td>1985.0</td>\n",
       "      <td>0.0</td>\n",
       "      <td>0.0</td>\n",
       "      <td>1.0</td>\n",
       "      <td>0.0</td>\n",
       "      <td>0.0</td>\n",
       "      <td>0.0</td>\n",
       "      <td>...</td>\n",
       "      <td>1.0</td>\n",
       "      <td>0.0</td>\n",
       "      <td>0.0</td>\n",
       "      <td>0.0</td>\n",
       "      <td>0.0</td>\n",
       "      <td>1.0</td>\n",
       "      <td>0.0</td>\n",
       "      <td>0.0</td>\n",
       "      <td>0.0</td>\n",
       "      <td>1.0</td>\n",
       "    </tr>\n",
       "    <tr>\n",
       "      <th>5544</th>\n",
       "      <td>13.500000</td>\n",
       "      <td>0.121633</td>\n",
       "      <td>161.6920</td>\n",
       "      <td>1998.0</td>\n",
       "      <td>0.0</td>\n",
       "      <td>1.0</td>\n",
       "      <td>0.0</td>\n",
       "      <td>0.0</td>\n",
       "      <td>0.0</td>\n",
       "      <td>0.0</td>\n",
       "      <td>...</td>\n",
       "      <td>0.0</td>\n",
       "      <td>1.0</td>\n",
       "      <td>0.0</td>\n",
       "      <td>0.0</td>\n",
       "      <td>0.0</td>\n",
       "      <td>1.0</td>\n",
       "      <td>1.0</td>\n",
       "      <td>0.0</td>\n",
       "      <td>0.0</td>\n",
       "      <td>0.0</td>\n",
       "    </tr>\n",
       "  </tbody>\n",
       "</table>\n",
       "<p>5 rows × 46 columns</p>\n",
       "</div>"
      ],
      "text/plain": [
       "      Item_Weight  Item_Visibility  Item_MRP  Outlet_Establishment_Year  \\\n",
       "8077    15.250000         0.061531  132.2968                     2007.0   \n",
       "2391    17.850000         0.044463  127.1020                     1997.0   \n",
       "163      7.270000         0.071078  114.2518                     1997.0   \n",
       "4608    12.822634         0.075142  145.8444                     1985.0   \n",
       "5544    13.500000         0.121633  161.6920                     1998.0   \n",
       "\n",
       "      Item_Fat_Content_LF  Item_Fat_Content_Low Fat  Item_Fat_Content_Regular  \\\n",
       "8077                  0.0                       1.0                       0.0   \n",
       "2391                  0.0                       1.0                       0.0   \n",
       "163                   0.0                       1.0                       0.0   \n",
       "4608                  0.0                       0.0                       1.0   \n",
       "5544                  0.0                       1.0                       0.0   \n",
       "\n",
       "      Item_Fat_Content_low fat  Item_Fat_Content_reg  Item_Type_Baking Goods  \\\n",
       "8077                       0.0                   0.0                     0.0   \n",
       "2391                       0.0                   0.0                     0.0   \n",
       "163                        0.0                   0.0                     0.0   \n",
       "4608                       0.0                   0.0                     0.0   \n",
       "5544                       0.0                   0.0                     0.0   \n",
       "\n",
       "      ...  Outlet_Size_Medium  Outlet_Size_N/A  Outlet_Size_Small  \\\n",
       "8077  ...                 0.0              1.0                0.0   \n",
       "2391  ...                 0.0              0.0                1.0   \n",
       "163   ...                 0.0              0.0                1.0   \n",
       "4608  ...                 1.0              0.0                0.0   \n",
       "5544  ...                 0.0              1.0                0.0   \n",
       "\n",
       "      Outlet_Location_Type_Tier 1  Outlet_Location_Type_Tier 2  \\\n",
       "8077                          0.0                          1.0   \n",
       "2391                          1.0                          0.0   \n",
       "163                           1.0                          0.0   \n",
       "4608                          0.0                          0.0   \n",
       "5544                          0.0                          0.0   \n",
       "\n",
       "      Outlet_Location_Type_Tier 3  Outlet_Type_Grocery Store  \\\n",
       "8077                          0.0                        0.0   \n",
       "2391                          0.0                        0.0   \n",
       "163                           0.0                        0.0   \n",
       "4608                          1.0                        0.0   \n",
       "5544                          1.0                        1.0   \n",
       "\n",
       "      Outlet_Type_Supermarket Type1  Outlet_Type_Supermarket Type2  \\\n",
       "8077                            1.0                            0.0   \n",
       "2391                            1.0                            0.0   \n",
       "163                             1.0                            0.0   \n",
       "4608                            0.0                            0.0   \n",
       "5544                            0.0                            0.0   \n",
       "\n",
       "      Outlet_Type_Supermarket Type3  \n",
       "8077                            0.0  \n",
       "2391                            0.0  \n",
       "163                             0.0  \n",
       "4608                            1.0  \n",
       "5544                            0.0  \n",
       "\n",
       "[5 rows x 46 columns]"
      ]
     },
     "execution_count": 31,
     "metadata": {},
     "output_type": "execute_result"
    }
   ],
   "source": [
    "# Convert test data into dataframe\n",
    "X_test_df = pd.DataFrame(preprocessor.transform(X_test),\n",
    "                        columns = feature_names, index = X_test.index)\n",
    "X_test_df.head()"
   ]
  },
  {
   "cell_type": "code",
   "execution_count": 32,
   "metadata": {},
   "outputs": [
    {
     "data": {
      "text/plain": [
       "8077    1696.4584\n",
       "2391    2024.0320\n",
       "163     2618.5914\n",
       "Name: Item_Outlet_Sales, dtype: float64"
      ]
     },
     "execution_count": 32,
     "metadata": {},
     "output_type": "execute_result"
    }
   ],
   "source": [
    "# Confirm the first 3 rows index in y_test matches X_test_df\n",
    "y_test.head(3)"
   ]
  },
  {
   "cell_type": "markdown",
   "metadata": {},
   "source": [
    "## LinearRegression\n",
    "- Fit and evaluate your LinearRegresion model using your dataframe X_train and X_test data.\n",
    "- Extract and visualize the coefficients that your model determined.\n",
    " - Select the top 3 most impactful features and interpret their coefficients in plain English.\n",
    "- Save your figure as a .png file inside your repository (you will need this for the final piece of this assignment - Update Your README)."
   ]
  },
  {
   "cell_type": "code",
   "execution_count": 33,
   "metadata": {},
   "outputs": [],
   "source": [
    "# Create custom function for regression evaluation\n",
    "def evaluate_regression(model, X_train,y_train, X_test, y_test): \n",
    "    \"\"\"Evaluates a scikit learn regression model using r-squared and RMSE\"\"\"\n",
    "    \n",
    "    ## Training Data\n",
    "    y_pred_train = model.predict(X_train)\n",
    "    r2_train = metrics.r2_score(y_train, y_pred_train)\n",
    "    rmse_train = metrics.mean_squared_error(y_train, y_pred_train, \n",
    "                                            squared=False)\n",
    "    \n",
    "    print(f\"Training Data:\\tR^2= {r2_train:.2f}\\tRMSE= {rmse_train:.2f}\")\n",
    "        \n",
    "    \n",
    "    ## Test Data\n",
    "    y_pred_test = model.predict(X_test)\n",
    "    r2_test = metrics.r2_score(y_test, y_pred_test)\n",
    "    rmse_test = metrics.mean_squared_error(y_test, y_pred_test, \n",
    "                                            squared=False)\n",
    "    \n",
    "    print(f\"Test Data:\\tR^2= {r2_test:.2f}\\tRMSE= {rmse_test:.2f}\")\n"
   ]
  },
  {
   "cell_type": "code",
   "execution_count": 34,
   "metadata": {},
   "outputs": [
    {
     "name": "stdout",
     "output_type": "stream",
     "text": [
      "Training Data:\tR^2= 0.56\tRMSE= 1114.87\n",
      "Test Data:\tR^2= 0.56\tRMSE= 1164.39\n"
     ]
    }
   ],
   "source": [
    "# Fit a linear regression model\n",
    "lin_reg = LinearRegression()\n",
    "lin_reg.fit(X_train_df, y_train)\n",
    "evaluate_regression(lin_reg, X_train_df, y_train, X_test_df, y_test)"
   ]
  },
  {
   "cell_type": "markdown",
   "metadata": {},
   "source": [
    "### Extract and Save the Coefficients from the Model"
   ]
  },
  {
   "cell_type": "code",
   "execution_count": 35,
   "metadata": {},
   "outputs": [
    {
     "data": {
      "text/plain": [
       "array([   1.09457524, -279.83996825,   15.59746506,  -14.14700332,\n",
       "        -27.89757004,    4.99154419,   40.12538792,   59.05203102,\n",
       "        -76.27139309,    9.47069413,   -6.1886736 ,   68.44834946,\n",
       "         22.16631424,  -49.39516331,   -4.43958322,   16.57382693,\n",
       "         48.71518597,  -41.37776441,  -68.6731589 ,  -15.68123635,\n",
       "         18.93801214,   95.05144534,  -11.48237111, -117.19523855,\n",
       "         35.06936123, -420.20658316,  -67.8115823 ,  213.05518556,\n",
       "        -87.13296712, -464.48755833,  585.31859315,   66.82409733,\n",
       "        -40.12906804,  301.65159117,  -87.08170825,  -67.8115823 ,\n",
       "        411.10391777, -247.28046564,  -96.01186983, -249.91767541,\n",
       "        239.75021485,   10.16746057, -884.69414148,  386.50851546,\n",
       "        -87.13296712,  585.31859315])"
      ]
     },
     "execution_count": 35,
     "metadata": {},
     "output_type": "execute_result"
    }
   ],
   "source": [
    "# Display coefficients\n",
    "lin_reg.coef_"
   ]
  },
  {
   "cell_type": "code",
   "execution_count": 36,
   "metadata": {},
   "outputs": [
    {
     "name": "stdout",
     "output_type": "stream",
     "text": [
      "46\n"
     ]
    },
    {
     "data": {
      "text/plain": [
       "46"
      ]
     },
     "execution_count": 36,
     "metadata": {},
     "output_type": "execute_result"
    }
   ],
   "source": [
    "# Checking the number of coeffs matches the # of feature names\n",
    "print(len(lin_reg.coef_))\n",
    "len(feature_names)"
   ]
  },
  {
   "cell_type": "code",
   "execution_count": 37,
   "metadata": {
    "scrolled": true
   },
   "outputs": [
    {
     "data": {
      "text/plain": [
       "Item_Weight                          1.094575\n",
       "Item_Visibility                   -279.839968\n",
       "Item_MRP                            15.597465\n",
       "Outlet_Establishment_Year          -14.147003\n",
       "Item_Fat_Content_LF                -27.897570\n",
       "Item_Fat_Content_Low Fat             4.991544\n",
       "Item_Fat_Content_Regular            40.125388\n",
       "Item_Fat_Content_low fat            59.052031\n",
       "Item_Fat_Content_reg               -76.271393\n",
       "Item_Type_Baking Goods               9.470694\n",
       "Item_Type_Breads                    -6.188674\n",
       "Item_Type_Breakfast                 68.448349\n",
       "Item_Type_Canned                    22.166314\n",
       "Item_Type_Dairy                    -49.395163\n",
       "Item_Type_Frozen Foods              -4.439583\n",
       "Item_Type_Fruits and Vegetables     16.573827\n",
       "Item_Type_Hard Drinks               48.715186\n",
       "Item_Type_Health and Hygiene       -41.377764\n",
       "Item_Type_Household                -68.673159\n",
       "Item_Type_Meat                     -15.681236\n",
       "Item_Type_Others                    18.938012\n",
       "Item_Type_Seafood                   95.051445\n",
       "Item_Type_Snack Foods              -11.482371\n",
       "Item_Type_Soft Drinks             -117.195239\n",
       "Item_Type_Starchy Foods             35.069361\n",
       "Outlet_Identifier_OUT010          -420.206583\n",
       "Outlet_Identifier_OUT013           -67.811582\n",
       "Outlet_Identifier_OUT017           213.055186\n",
       "Outlet_Identifier_OUT018           -87.132967\n",
       "Outlet_Identifier_OUT019          -464.487558\n",
       "Outlet_Identifier_OUT027           585.318593\n",
       "Outlet_Identifier_OUT035            66.824097\n",
       "Outlet_Identifier_OUT045           -40.129068\n",
       "Outlet_Identifier_OUT046           301.651591\n",
       "Outlet_Identifier_OUT049           -87.081708\n",
       "Outlet_Size_High                   -67.811582\n",
       "Outlet_Size_Medium                 411.103918\n",
       "Outlet_Size_N/A                   -247.280466\n",
       "Outlet_Size_Small                  -96.011870\n",
       "Outlet_Location_Type_Tier 1       -249.917675\n",
       "Outlet_Location_Type_Tier 2        239.750215\n",
       "Outlet_Location_Type_Tier 3         10.167461\n",
       "Outlet_Type_Grocery Store         -884.694141\n",
       "Outlet_Type_Supermarket Type1      386.508515\n",
       "Outlet_Type_Supermarket Type2      -87.132967\n",
       "Outlet_Type_Supermarket Type3      585.318593\n",
       "dtype: float64"
      ]
     },
     "execution_count": 37,
     "metadata": {},
     "output_type": "execute_result"
    }
   ],
   "source": [
    "# Saving the coefficients\n",
    "coeffs = pd.Series(lin_reg.coef_, index = feature_names)\n",
    "coeffs"
   ]
  },
  {
   "cell_type": "code",
   "execution_count": 38,
   "metadata": {
    "scrolled": true
   },
   "outputs": [
    {
     "data": {
      "text/plain": [
       "Item_Weight                            1.094575\n",
       "Item_Visibility                     -279.839968\n",
       "Item_MRP                              15.597465\n",
       "Outlet_Establishment_Year            -14.147003\n",
       "Item_Fat_Content_LF                  -27.897570\n",
       "Item_Fat_Content_Low Fat               4.991544\n",
       "Item_Fat_Content_Regular              40.125388\n",
       "Item_Fat_Content_low fat              59.052031\n",
       "Item_Fat_Content_reg                 -76.271393\n",
       "Item_Type_Baking Goods                 9.470694\n",
       "Item_Type_Breads                      -6.188674\n",
       "Item_Type_Breakfast                   68.448349\n",
       "Item_Type_Canned                      22.166314\n",
       "Item_Type_Dairy                      -49.395163\n",
       "Item_Type_Frozen Foods                -4.439583\n",
       "Item_Type_Fruits and Vegetables       16.573827\n",
       "Item_Type_Hard Drinks                 48.715186\n",
       "Item_Type_Health and Hygiene         -41.377764\n",
       "Item_Type_Household                  -68.673159\n",
       "Item_Type_Meat                       -15.681236\n",
       "Item_Type_Others                      18.938012\n",
       "Item_Type_Seafood                     95.051445\n",
       "Item_Type_Snack Foods                -11.482371\n",
       "Item_Type_Soft Drinks               -117.195239\n",
       "Item_Type_Starchy Foods               35.069361\n",
       "Outlet_Identifier_OUT010            -420.206583\n",
       "Outlet_Identifier_OUT013             -67.811582\n",
       "Outlet_Identifier_OUT017             213.055186\n",
       "Outlet_Identifier_OUT018             -87.132967\n",
       "Outlet_Identifier_OUT019            -464.487558\n",
       "Outlet_Identifier_OUT027             585.318593\n",
       "Outlet_Identifier_OUT035              66.824097\n",
       "Outlet_Identifier_OUT045             -40.129068\n",
       "Outlet_Identifier_OUT046             301.651591\n",
       "Outlet_Identifier_OUT049             -87.081708\n",
       "Outlet_Size_High                     -67.811582\n",
       "Outlet_Size_Medium                   411.103918\n",
       "Outlet_Size_N/A                     -247.280466\n",
       "Outlet_Size_Small                    -96.011870\n",
       "Outlet_Location_Type_Tier 1         -249.917675\n",
       "Outlet_Location_Type_Tier 2          239.750215\n",
       "Outlet_Location_Type_Tier 3           10.167461\n",
       "Outlet_Type_Grocery Store           -884.694141\n",
       "Outlet_Type_Supermarket Type1        386.508515\n",
       "Outlet_Type_Supermarket Type2        -87.132967\n",
       "Outlet_Type_Supermarket Type3        585.318593\n",
       "intercept                          27965.579246\n",
       "dtype: float64"
      ]
     },
     "execution_count": 38,
     "metadata": {},
     "output_type": "execute_result"
    }
   ],
   "source": [
    "# Use .loc to add the intercept to the series\n",
    "coeffs.loc['intercept'] = lin_reg.intercept_\n",
    "coeffs"
   ]
  },
  {
   "cell_type": "markdown",
   "metadata": {},
   "source": [
    "### Visualize the Coefficients"
   ]
  },
  {
   "cell_type": "markdown",
   "metadata": {},
   "source": [
    "- Select the top 3 most impactful features and interpret their coefficients in plain English."
   ]
  },
  {
   "cell_type": "code",
   "execution_count": 76,
   "metadata": {},
   "outputs": [],
   "source": [
    "# Custom function for coefficient visualization\n",
    "def plot_coeffs(coeffs, top_n=None, figsize=(4,5), \n",
    "                intercept=False, intercept_name=\"intercept\", \n",
    "                annotate=False, ha='left', va='center', size=12, \n",
    "                xytext=(4,0), textcoords='offset points'):\n",
    "    \"\"\" Plots the top_n coefficients from a Series, with optional annotations.\n",
    "    \"\"\"\n",
    "    # Drop intercept if intercept=False and \n",
    "    if (intercept == False) & (intercept_name in coeffs.index):\n",
    "        coeffs = coeffs.drop(intercept_name)\n",
    "    if top_n == None:\n",
    "        ## sort all features and set title\n",
    "        plot_vals = coeffs.sort_values()\n",
    "        title = \"All Coefficients - Ranked by Magnitude\"\n",
    "    else:\n",
    "        ## rank the coeffs and select the top_n\n",
    "        coeff_rank = coeffs.abs().rank().sort_values(ascending=False)\n",
    "        top_n_features = coeff_rank.head(top_n)\n",
    "        \n",
    "        ## sort features and keep top_n and set title\n",
    "        plot_vals = coeffs.loc[top_n_features.index].sort_values()\n",
    "        title = f\"Top {top_n} Largest Coefficients\"\n",
    "    ## plotting top N importances\n",
    "    ax = plot_vals.plot(kind='barh', figsize=figsize)\n",
    "    ax.set(xlabel='Coefficient', \n",
    "            ylabel='Feature Names', \n",
    "            title=title)\n",
    "    ax.axvline(0, color='k')\n",
    "    if annotate == True:\n",
    "        annotate_hbars(ax, ha=ha, va=va, size=size, xytext=xytext, textcoords=textcoords)\n",
    "    return ax"
   ]
  },
  {
   "cell_type": "code",
   "execution_count": 77,
   "metadata": {},
   "outputs": [
    {
     "data": {
      "image/png": "[encoded data removed]",
      "text/plain": [
       "<Figure size 400x500 with 1 Axes>"
      ]
     },
     "metadata": {},
     "output_type": "display_data"
    }
   ],
   "source": [
    "# Plot top 10 coeffs\n",
    "ax = plot_coeffs(coeffs,top_n=10)\n",
    "for bar in ax.patches:\n",
    "    ## calculate center of bar\n",
    "    bar_ax = bar.get_y() + bar.get_height() / 2\n",
    "    ## get the value to annotate\n",
    "    val = bar.get_width()\n",
    "    \n",
    "    if val < 0:\n",
    "        val_pos = 0\n",
    "    else:\n",
    "        val_pos = val\n",
    "    \n",
    "    # ha and va stand for the horizontal and vertical alignment\n",
    "    ax.annotate(f\"{val:.2f}\", (val_pos,bar_ax),\n",
    "                ha='left', va='center',size=10,\n",
    "                xytext=(4,0), textcoords='offset points')\n",
    "# Highlight the top 3 most impactful features\n",
    "highlight = ax.patches[9]\n",
    "highlight2 = ax.patches[8]\n",
    "highlight3 = ax.patches[0]\n",
    "highlight.set_facecolor('purple')\n",
    "highlight2.set_facecolor('purple')\n",
    "highlight3.set_facecolor('purple')"
   ]
  },
  {
   "cell_type": "markdown",
   "metadata": {},
   "source": [
    "### Interpreting The Model's Top 3 Most Impactful Coefficients:"
   ]
  },
  {
   "cell_type": "markdown",
   "metadata": {},
   "source": [
    "- Intercept:\n",
    " - The model calculated the average prod"
   ]
  },
  {
   "cell_type": "markdown",
   "metadata": {},
   "source": [
    "### Save your figure as a .png file inside your repository "
   ]
  },
  {
   "cell_type": "markdown",
   "metadata": {},
   "source": [
    "![png](Data/top_coeffs.png)"
   ]
  },
  {
   "cell_type": "code",
   "execution_count": 74,
   "metadata": {},
   "outputs": [],
   "source": []
  },
  {
   "cell_type": "code",
   "execution_count": null,
   "metadata": {},
   "outputs": [],
   "source": []
  },
  {
   "cell_type": "code",
   "execution_count": null,
   "metadata": {},
   "outputs": [],
   "source": []
  },
  {
   "cell_type": "code",
   "execution_count": null,
   "metadata": {},
   "outputs": [],
   "source": []
  },
  {
   "cell_type": "code",
   "execution_count": null,
   "metadata": {},
   "outputs": [],
   "source": []
  },
  {
   "cell_type": "code",
   "execution_count": null,
   "metadata": {},
   "outputs": [],
   "source": []
  },
  {
   "cell_type": "code",
   "execution_count": null,
   "metadata": {},
   "outputs": [],
   "source": []
  },
  {
   "cell_type": "code",
   "execution_count": null,
   "metadata": {},
   "outputs": [],
   "source": []
  },
  {
   "cell_type": "code",
   "execution_count": null,
   "metadata": {},
   "outputs": [],
   "source": []
  },
  {
   "cell_type": "code",
   "execution_count": null,
   "metadata": {},
   "outputs": [],
   "source": []
  }
 ],
 "metadata": {
  "colab": {
   "provenance": []
  },
  "kernelspec": {
   "display_name": "Python 3 (ipykernel)",
   "language": "python",
   "name": "python3"
  },
  "language_info": {
   "codemirror_mode": {
    "name": "ipython",
    "version": 3
   },
   "file_extension": ".py",
   "mimetype": "text/x-python",
   "name": "python",
   "nbconvert_exporter": "python",
   "pygments_lexer": "ipython3",
   "version": "3.9.15"
  },
  "toc": {
   "base_numbering": 1,
   "nav_menu": {},
   "number_sections": false,
   "sideBar": true,
   "skip_h1_title": false,
   "title_cell": "Table of Contents",
   "title_sidebar": "Contents",
   "toc_cell": false,
   "toc_position": {},
   "toc_section_display": true,
   "toc_window_display": false
  }
 },
 "nbformat": 4,
 "nbformat_minor": 1
}
